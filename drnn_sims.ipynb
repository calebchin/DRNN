{
 "cells": [
  {
   "cell_type": "code",
   "execution_count": 2,
   "metadata": {},
   "outputs": [],
   "source": [
    "from drnn import DRNN\n",
    "import numpy as np\n",
    "import matplotlib.pyplot as plt\n",
    "\n",
    "from hyperopt import hp"
   ]
  },
  {
   "cell_type": "code",
   "execution_count": 3,
   "metadata": {},
   "outputs": [],
   "source": [
    "%load_ext autoreload\n",
    "%autoreload 2"
   ]
  },
  {
   "cell_type": "code",
   "execution_count": 4,
   "metadata": {},
   "outputs": [],
   "source": [
    "expit = lambda x : np.exp(x)/(1 + np.exp(x))\n",
    "\n",
    "def gendata_mcar(N, T, p, seed, r = 1) : \n",
    "    \"\"\" \n",
    "    Generates Gaussian data, with latent dimension r = 2\n",
    "\n",
    "    required : N, d are both EVEN positive integers\n",
    "    \"\"\"\n",
    "    np.random.seed(seed = seed)\n",
    "\n",
    "    ## Data Matrix (N * T * n * d)\n",
    "    Data = np.zeros( (N, T) )\n",
    "    #true_Mean = np.zeros( (N, T) )\n",
    "    #true_Cov = np.zeros( (N, T) )\n",
    "\n",
    "    u_1 = np.random.uniform(-1, 1, (N, r))\n",
    "    u_2 = np.random.uniform(0.2, 1, (N, r))\n",
    "\n",
    "    v_1 = np.random.uniform(-2, 2, (T, r))\n",
    "    v_2 = np.random.uniform(0.5, 2, (T, r))\n",
    "\n",
    "    user_std = 0.3\n",
    "    time_std = 0.3\n",
    "\n",
    "    #even_ones = np.repeat([0, 1], d/2)\n",
    "    #odd_ones = np.repeat([1, 0], d/2)\n",
    "    #U = np.random.uniform(size=(N,r)) * user_range * 2 - user_range\n",
    "    #V = np.random.uniform(size=(T,r)) * time_range * 2 - time_range\n",
    "    Y0 = 1/np.sqrt(r) * np.matmul(u_1, v_1.transpose())\n",
    "\n",
    "    a = np.random.normal(0, user_std, size=N)\n",
    "    b = np.random.normal(0, time_std, size=T)\n",
    "    eps = np.random.normal(0, 0.05, size=(N, T))\n",
    "\n",
    "    # treatment effect\n",
    "    # delta(i,j) = a(i) + b(t) + eps(i,t)\n",
    "\n",
    "    aa = np.broadcast_to(a.reshape(N,1), (N,T))\n",
    "    bb = np.broadcast_to(b, (N,T))\n",
    "    delta = aa + bb + eps \n",
    "    Y1 = Y0 + delta \n",
    "\n",
    "    Y1 += np.random.normal(0, 0.001, size=(N,T))\n",
    "    Y0 += np.random.normal(0, 0.001, size=(N,T))\n",
    "    #D = np.stack([Y0, Y1], axis=-1)\n",
    "    \n",
    "    Masking = np.zeros( (N, T) )\n",
    "\n",
    "    Masking = np.reshape(np.random.binomial(1, p, (N*T)), (N, T))\n",
    "\n",
    "    # for sim purpose, last row, last column is observed\n",
    "    Masking[N - 1, T - 1] = 1\n",
    "    Data = np.zeros((N, T))\n",
    "    Data[Masking == 1] = Y1[Masking == 1]\n",
    "    Data[Masking == 0] = Y0[Masking == 0]\n",
    "\n",
    "\n",
    "    return Data, Masking"
   ]
  },
  {
   "cell_type": "code",
   "execution_count": 93,
   "metadata": {},
   "outputs": [
    {
     "data": {
      "text/plain": [
       "(200, 200)"
      ]
     },
     "execution_count": 93,
     "metadata": {},
     "output_type": "execute_result"
    },
    {
     "data": {
      "image/png": "[encoded data removed]",
      "text/plain": [
       "<Figure size 480x480 with 1 Axes>"
      ]
     },
     "metadata": {},
     "output_type": "display_data"
    }
   ],
   "source": [
    "Z, M = gendata_mcar(200, 200, p = 0.3, seed = 42)\n",
    "plt.matshow(M)\n",
    "Z.shape"
   ]
  },
  {
   "cell_type": "code",
   "execution_count": 44,
   "metadata": {},
   "outputs": [],
   "source": [
    "N, T = M.shape\n",
    "obvs_inds = np.nonzero(M == 1)\n",
    "rq_obvs_inds_x = obvs_inds[0][np.logical_and(obvs_inds[0] >= T // 2, obvs_inds[1] >= N // 2)]\n",
    "rq_obvs_inds_y = obvs_inds[1][np.logical_and(obvs_inds[1] >= N // 2, obvs_inds[0] >= T // 2)]\n",
    "rq_inds = (rq_obvs_inds_x, rq_obvs_inds_y)\n"
   ]
  },
  {
   "cell_type": "code",
   "execution_count": 27,
   "metadata": {},
   "outputs": [],
   "source": [
    "import simulate_drnn"
   ]
  },
  {
   "cell_type": "code",
   "execution_count": 30,
   "metadata": {},
   "outputs": [],
   "source": [
    "Z, T, M = simulate_drnn.gendata_nonlin_mcar(200, 200, p = 0.9, non_lin = \"expit\", seed = 20)"
   ]
  },
  {
   "cell_type": "code",
   "execution_count": null,
   "metadata": {},
   "outputs": [],
   "source": []
  },
  {
   "cell_type": "code",
   "execution_count": 31,
   "metadata": {},
   "outputs": [],
   "source": [
    "drnn_spc = {\n",
    "    'row_eta': hp.uniform('row_eta', 0, 0.7),\n",
    "    'col_eta': hp.uniform('col_eta', 0, 0.7)\n",
    "}\n",
    "\n",
    "mcar_drnn = DRNN(eta_space = hp.uniform('eta', 0, 0.7), drnn_eta_space=drnn_spc)\n",
    "Z = np.ma.masked_array(Z, np.logical_not(M))\n",
    "r_dist, c_dist = mcar_drnn.distances(Z)\n"
   ]
  },
  {
   "cell_type": "code",
   "execution_count": 144,
   "metadata": {},
   "outputs": [
    {
     "data": {
      "text/plain": [
       "masked_array(\n",
       "  data=[[-0.3698052729001645, -0.23675915980302475, -0.06854172207103619,\n",
       "         ..., -0.7219790789087893, -0.7006260364160712,\n",
       "         -0.5082980193147738],\n",
       "        [-0.32097347382425495, -0.3792695874827092, -0.587747036329631,\n",
       "         ..., 1.2444519671141612, --, --],\n",
       "        [0.35084258348821046, 0.17047547696319434, 0.902837407361802,\n",
       "         ..., -0.8622589823939075, 0.19757599968284167,\n",
       "         0.127452690291471],\n",
       "        ...,\n",
       "        [-0.21158250302647927, -0.7928391397385793, -1.352691758582859,\n",
       "         ..., 1.4428313880080268, -0.4176321753230708,\n",
       "         0.14980922236902192],\n",
       "        [-0.9968322180262419, 0.8839078903549289, -0.0678180694079438,\n",
       "         ..., -0.05828463426886366, -0.3229639308122517,\n",
       "         -0.7595770690169322],\n",
       "        [-0.0055539632635052604, 0.11191320320882425, 0.4182040526948347,\n",
       "         ..., -0.22750025066082907, -0.05779603110448564, --]],\n",
       "  mask=[[False, False, False, ..., False, False, False],\n",
       "        [False, False, False, ..., False,  True,  True],\n",
       "        [False, False, False, ..., False, False, False],\n",
       "        ...,\n",
       "        [False, False, False, ..., False, False, False],\n",
       "        [False, False, False, ..., False, False, False],\n",
       "        [False, False, False, ..., False, False,  True]],\n",
       "  fill_value=1e+20)"
      ]
     },
     "execution_count": 144,
     "metadata": {},
     "output_type": "execute_result"
    }
   ],
   "source": [
    "Z"
   ]
  },
  {
   "cell_type": "code",
   "execution_count": 32,
   "metadata": {},
   "outputs": [
    {
     "data": {
      "text/plain": [
       "np.float64(30.493685620326914)"
      ]
     },
     "execution_count": 32,
     "metadata": {},
     "output_type": "execute_result"
    }
   ],
   "source": [
    "np.max(r_dist[~np.isinf(r_dist)])"
   ]
  },
  {
   "cell_type": "code",
   "execution_count": 62,
   "metadata": {},
   "outputs": [
    {
     "data": {
      "text/plain": [
       "np.float64(0.0)"
      ]
     },
     "execution_count": 62,
     "metadata": {},
     "output_type": "execute_result"
    }
   ],
   "source": [
    "eta_drnn_col"
   ]
  },
  {
   "cell_type": "code",
   "execution_count": 63,
   "metadata": {},
   "outputs": [
    {
     "data": {
      "text/plain": [
       "np.float64(0.2)"
      ]
     },
     "execution_count": 63,
     "metadata": {},
     "output_type": "execute_result"
    }
   ],
   "source": [
    "eta_drnn_row"
   ]
  },
  {
   "cell_type": "code",
   "execution_count": 92,
   "metadata": {},
   "outputs": [],
   "source": [
    "def gendata_mcar(N, T, p, seed, r = 4) : \n",
    "    \"\"\" \n",
    "    Generates Gaussian data, with latent dimension r = 4\n",
    "    \"\"\"\n",
    "    np.random.seed(seed = seed)\n",
    "\n",
    "    ## Data Matrix (N * T * n * d)\n",
    "    Data = np.zeros( (N, T) )\n",
    "    #true_Mean = np.zeros( (N, T) )\n",
    "    #true_Cov = np.zeros( (N, T) )\n",
    "\n",
    "    user_range = 0.9\n",
    "    time_range = 0.9\n",
    "\n",
    "    user_std = 0.3\n",
    "    time_std = 0.3\n",
    "\n",
    "    U = np.random.uniform(size=(N,r)) * user_range * 2 - user_range\n",
    "    V = np.random.uniform(size=(T,r)) * time_range * 2 - time_range\n",
    "    Y0 = 1/np.sqrt(r) * np.matmul(U, V.transpose())\n",
    "\n",
    "    a = np.random.normal(0, user_std, size=N)\n",
    "    b = np.random.normal(0, time_std, size=T)\n",
    "    eps = np.random.normal(0, 0.05, size=(N, T))\n",
    "\n",
    "    # treatment effect\n",
    "    # delta(i,j) = a(i) + b(t) + eps(i,t)\n",
    "\n",
    "    aa = np.broadcast_to(a.reshape(N,1), (N,T))\n",
    "    bb = np.broadcast_to(b, (N,T))\n",
    "    delta = aa + bb + eps \n",
    "    Y1 = Y0 + delta \n",
    "\n",
    "    Y1 += np.random.normal(0, 0.001, size=(N,T))\n",
    "    Y0 += np.random.normal(0, 0.001, size=(N,T))\n",
    "    #D = np.stack([Y0, Y1], axis=-1)\n",
    "    \n",
    "    Masking = np.zeros( (N, T) )\n",
    "\n",
    "    Masking = np.reshape(np.random.binomial(1, p, (N*T)), (N, T))\n",
    "\n",
    "    # for sim purpose, last row, last column is observed\n",
    "    Masking[N - 1, T - 1] = 1\n",
    "    Data = np.zeros((N, T))\n",
    "    Data[Masking == 1] = Y1[Masking == 1]\n",
    "    Data[Masking == 0] = Y0[Masking == 0]\n",
    "\n",
    "    return Data, Masking"
   ]
  },
  {
   "cell_type": "code",
   "execution_count": 68,
   "metadata": {},
   "outputs": [
    {
     "name": "stdout",
     "output_type": "stream",
     "text": [
      "0.005996660400794241\n",
      "0.08786652522877604\n",
      "0.26356716237220656\n"
     ]
    }
   ],
   "source": [
    "rq_inds = (N - 1, T - 1)\n",
    "eval_mask = np.logical_not(M)\n",
    "eval_mask[rq_inds] = 1\n",
    "\n",
    "masked_Z = np.ma.masked_array(Z, eval_mask)\n",
    "\n",
    "eta_drnn_row, eta_drnn_col = mcar_drnn.search_eta_drnn(masked_Z, M, max_evals = 100)\n",
    "eta_star_row = mcar_drnn.search_eta_snn(masked_Z, M, nn_type = \"u\", max_evals=100)\n",
    "eta_star_col = mcar_drnn.search_eta_snn(masked_Z, M, nn_type = \"i\", max_evals=100)\n",
    "\n",
    "\n",
    "\n",
    "row_dists, col_dists = mcar_drnn.distances(masked_Z, M = None)\n",
    "flattened_inds = [rq_inds]\n",
    "# for b in range(len(rq_inds[0])):\n",
    "#   flattened_inds.append((rq_inds[0][b], rq_inds[1][b]))\n",
    "est = mcar_drnn.estimate(masked_Z, M, eta_drnn_row, eta_drnn_col, flattened_inds, row_dists, col_dists)\n",
    "truth = Z[rq_inds]\n",
    "err = mcar_drnn.avg_error(est[rq_inds], truth)\n",
    "snn_unit_est = mcar_drnn.snn_estimate(masked_Z, M, eta_star_row, flattened_inds, row_dists, \"u\")\n",
    "snn_time_est = mcar_drnn.snn_estimate(masked_Z, M, eta_star_col, flattened_inds, col_dists, nn_type = \"i\")\n",
    "unit_err = mcar_drnn.avg_error(snn_unit_est[rq_inds], truth)\n",
    "time_err = mcar_drnn.avg_error(snn_time_est[rq_inds], truth)\n",
    "\n",
    "print(err)\n",
    "print(unit_err)\n",
    "print(time_err)\n"
   ]
  },
  {
   "cell_type": "code",
   "execution_count": 26,
   "metadata": {},
   "outputs": [
    {
     "name": "stdout",
     "output_type": "stream",
     "text": [
      "here\n",
      "here\n",
      "here\n",
      "here\n",
      "here\n"
     ]
    }
   ],
   "source": [
    "row_dists, col_dists = mcar_drnn.distances(masked_Z, M = None)\n",
    "flattened_inds = []\n",
    "for b in range(len(rq_inds[0])):\n",
    "  flattened_inds.append((rq_inds[0][b], rq_inds[1][b]))\n",
    "est = mcar_drnn.estimate(masked_Z, M, eta_star_row, eta_star_col, flattened_inds, row_dists, col_dists)\n",
    "truth = Z[rq_inds]\n",
    "err = mcar_drnn.avg_error(est[rq_inds], truth)"
   ]
  },
  {
   "cell_type": "code",
   "execution_count": 111,
   "metadata": {},
   "outputs": [
    {
     "name": "stdout",
     "output_type": "stream",
     "text": [
      "[True False True False]\n",
      "[False  True  True False]\n",
      "--\n",
      "[[--]\n",
      " [3]\n",
      " [--]\n",
      " [--]]\n",
      "[1 2 3 --]\n"
     ]
    }
   ],
   "source": [
    "Z = np.array([[1, 2, 3, 4], [0, 2, 4, 3], [1, 2, 5, 1], [1, 2, 3, 100]])\n",
    "M = np.array([[1, 0, 1, 0], [1, 1, 1, 1], [0, 1, 0, 0], [1, 1, 1, 0]])\n",
    "act_M = np.logical_not(M)\n",
    "Z_m = np.ma.masked_array(Z, mask = act_M)\n",
    "row_dists, col_dists = mcar_drnn.distances(Z_m, M = None)\n",
    "#row_dists, col_dists = mcar_drnn.distances(masked_Z, M = None)\n",
    "est = mcar_drnn.estimate(Z_m, M, 0, 1, [(3, 3)], row_dists, col_dists)"
   ]
  },
  {
   "cell_type": "code",
   "execution_count": 107,
   "metadata": {},
   "outputs": [
    {
     "data": {
      "text/plain": [
       "masked_array(data=[0.0, 0.6666666666666666, 0.0, inf],\n",
       "             mask=[False, False, False, False],\n",
       "       fill_value=1e+20)"
      ]
     },
     "execution_count": 107,
     "metadata": {},
     "output_type": "execute_result"
    }
   ],
   "source": [
    "row_dists[3]"
   ]
  },
  {
   "cell_type": "code",
   "execution_count": 109,
   "metadata": {},
   "outputs": [
    {
     "data": {
      "text/plain": [
       "array([[nan, nan, nan, nan],\n",
       "       [nan, nan, nan, nan],\n",
       "       [nan, nan, nan, nan],\n",
       "       [nan, nan, nan,  3.]])"
      ]
     },
     "execution_count": 109,
     "metadata": {},
     "output_type": "execute_result"
    }
   ],
   "source": [
    "est"
   ]
  },
  {
   "cell_type": "code",
   "execution_count": 44,
   "metadata": {},
   "outputs": [
    {
     "data": {
      "text/plain": [
       "(masked_array(\n",
       "   data=[[inf, 9.0],\n",
       "         [9.0, inf]],\n",
       "   mask=[[False, False],\n",
       "         [False, False]],\n",
       "   fill_value=1e+20),\n",
       " masked_array(\n",
       "   data=[[inf, --, 4.0],\n",
       "         [--, inf, --],\n",
       "         [4.0, --, inf]],\n",
       "   mask=[[False,  True, False],\n",
       "         [ True, False,  True],\n",
       "         [False,  True, False]],\n",
       "   fill_value=1e+20))"
      ]
     },
     "execution_count": 44,
     "metadata": {},
     "output_type": "execute_result"
    }
   ],
   "source": [
    "test_Z = np.array([[1, 2, 3], [4, 5, 6]])\n",
    "mask = np.array([[1, 0, 1], [1, 0, 1]])\n",
    "m_test_Z = np.ma.masked_array(test_Z, np.logical_not(mask))\n",
    "mcar_drnn.distances(m_test_Z)"
   ]
  },
  {
   "cell_type": "code",
   "execution_count": 37,
   "metadata": {},
   "outputs": [
    {
     "name": "stderr",
     "output_type": "stream",
     "text": [
      "c:\\Users\\Caleb\\HeartstepsDNN\\DRNN\\drnn.py:109: UserWarning: Warning: converting a masked element to nan.\n",
      "  ests[i, j] = np.mean(row_Ys - col_Ys + Z[s_unit_nn][s_time_nn]) # this is len(s_unit_nn) x len(s_time_nn)\n"
     ]
    },
    {
     "data": {
      "text/plain": [
       "array([ 0.15819007, -0.13098725, -0.97126471, ..., -0.70994375,\n",
       "       -0.77141201, -0.74979711])"
      ]
     },
     "execution_count": 37,
     "metadata": {},
     "output_type": "execute_result"
    }
   ],
   "source": [
    "row_dists, col_dists = mcar_drnn.distances(masked_Z, M = None)\n",
    "flattened_inds = []\n",
    "for b in range(len(rq_inds[0])):\n",
    "  flattened_inds.append((rq_inds[0][b], rq_inds[1][b]))\n",
    "est = mcar_drnn.estimate(masked_Z, M, eta_star_row, eta_star_col, flattened_inds, row_dists, col_dists)\n",
    "est[rq_inds]"
   ]
  },
  {
   "cell_type": "code",
   "execution_count": 36,
   "metadata": {},
   "outputs": [],
   "source": [
    "# new ssplit\n",
    "direc = \".\"\n",
    "drnn_err = np.load(direc + \"/drnn_full_seed_ssplit_mcar_N4_6_blin_uv11_d4_p5_abs_err.npy\")\n",
    "drnn_eta = np.load(direc + \"/drnn_full_seed_ssplit_mcar_N4_6_blin_uv11_d4_p5_abs_eta.npy\")\n",
    "unit_err = np.load(direc + \"/drnn_full_seed_ssplit_mcar_N4_6_blin_uv11_d4_p5_unit_abs_err.npy\")\n",
    "unit_eta = np.load(direc + \"/drnn_full_seed_ssplit_mcar_N4_6_blin_uv11_d4_p5_unit_abs_eta.npy\")\n",
    "time_err = np.load(direc + \"/drnn_full_seed_ssplit_mcar_N4_6_blin_uv11_d4_p5_time_abs_err.npy\")\n",
    "time_eta = np.load(direc + \"/drnn_full_seed_ssplit_mcar_N4_6_blin_uv11_d4_p5_time_abs_eta.npy\")\n",
    "usvt_err = np.load(direc + \"/drnn_full_seed_ssplit_mcar_N4_6_blin_uv11_d4_p5_usvt_abs_err.npy\")\n",
    "\n",
    "drnn_ests = np.load(direc + \"/drnn_full_seed_ssplit_mcar_N4_6_blin_uv11_d4_p5_estimates.npy\", allow_pickle=True)\n",
    "unit_ests = np.load(direc + \"/drnn_full_seed_ssplit_mcar_N4_6_blin_uv11_d4_p5_unit_estimates.npy\", allow_pickle=True)\n",
    "time_ests = np.load(direc + \"/drnn_full_seed_ssplit_mcar_N4_6_blin_uv11_d4_p5_time_estimates.npy\", allow_pickle=True)\n",
    "usvt_ests = np.load(direc + \"/drnn_full_seed_ssplit_mcar_N4_6_blin_uv11_d4_p5_usvt_estimates.npy\", allow_pickle=True)\n"
   ]
  },
  {
   "cell_type": "code",
   "execution_count": 19,
   "metadata": {},
   "outputs": [
    {
     "data": {
      "text/plain": [
       "array([[3.26287416, 3.21012736, 4.41757198, 4.23023267],\n",
       "       [3.51155538, 3.07500328, 4.20838942, 4.54255612],\n",
       "       [2.35355272, 3.08371766, 4.76978038, 4.91452761],\n",
       "       [1.58582891, 4.2014089 , 4.87234474, 4.28961732]])"
      ]
     },
     "execution_count": 19,
     "metadata": {},
     "output_type": "execute_result"
    }
   ],
   "source": [
    "np.mean(drnn_eta, axis = 1)"
   ]
  },
  {
   "cell_type": "code",
   "execution_count": 23,
   "metadata": {},
   "outputs": [
    {
     "data": {
      "text/plain": [
       "array([[4.41757198, 4.41757198],\n",
       "       [4.20838942, 4.20838942],\n",
       "       [4.76978038, 4.76978038],\n",
       "       [4.87234474, 4.87234474]])"
      ]
     },
     "execution_count": 23,
     "metadata": {},
     "output_type": "execute_result"
    }
   ],
   "source": [
    "np.mean(time_eta, axis = 1)"
   ]
  },
  {
   "cell_type": "code",
   "execution_count": 21,
   "metadata": {},
   "outputs": [
    {
     "data": {
      "text/plain": [
       "array([[4.41757198, 2.22396872],\n",
       "       [2.42449669, 4.20838942],\n",
       "       [2.04909441, 4.76978038],\n",
       "       [3.69726097, 4.87234474]])"
      ]
     },
     "execution_count": 21,
     "metadata": {},
     "output_type": "execute_result"
    }
   ],
   "source": [
    "np.mean(unit_eta, axis = 1)"
   ]
  },
  {
   "cell_type": "code",
   "execution_count": 91,
   "metadata": {},
   "outputs": [
    {
     "ename": "FileNotFoundError",
     "evalue": "[Errno 2] No such file or directory: 'experimental_results/drnn_mcar_N4_7_p5_blin_uv11_d2_abs_err.npy'",
     "output_type": "error",
     "traceback": [
      "\u001b[1;31m---------------------------------------------------------------------------\u001b[0m",
      "\u001b[1;31mFileNotFoundError\u001b[0m                         Traceback (most recent call last)",
      "Cell \u001b[1;32mIn[91], line 3\u001b[0m\n\u001b[0;32m      1\u001b[0m \u001b[38;5;66;03m# lin\u001b[39;00m\n\u001b[0;32m      2\u001b[0m direc \u001b[38;5;241m=\u001b[39m \u001b[38;5;124m\"\u001b[39m\u001b[38;5;124mexperimental_results\u001b[39m\u001b[38;5;124m\"\u001b[39m\n\u001b[1;32m----> 3\u001b[0m drnn_err \u001b[38;5;241m=\u001b[39m \u001b[43mnp\u001b[49m\u001b[38;5;241;43m.\u001b[39;49m\u001b[43mload\u001b[49m\u001b[43m(\u001b[49m\u001b[43mdirec\u001b[49m\u001b[43m \u001b[49m\u001b[38;5;241;43m+\u001b[39;49m\u001b[43m \u001b[49m\u001b[38;5;124;43m\"\u001b[39;49m\u001b[38;5;124;43m/drnn_mcar_N4_7_p5_blin_uv11_d2_abs_err.npy\u001b[39;49m\u001b[38;5;124;43m\"\u001b[39;49m\u001b[43m)\u001b[49m\n\u001b[0;32m      4\u001b[0m drnn_eta \u001b[38;5;241m=\u001b[39m np\u001b[38;5;241m.\u001b[39mload(direc \u001b[38;5;241m+\u001b[39m \u001b[38;5;124m\"\u001b[39m\u001b[38;5;124m/drnn_mcar_N4_7_p5_blin_uv11_d2_abs_eta.npy\u001b[39m\u001b[38;5;124m\"\u001b[39m)\n\u001b[0;32m      5\u001b[0m unit_err \u001b[38;5;241m=\u001b[39m np\u001b[38;5;241m.\u001b[39mload(direc \u001b[38;5;241m+\u001b[39m \u001b[38;5;124m\"\u001b[39m\u001b[38;5;124m/drnn_mcar_N4_7_p5_blin_uv11_d2_unit_abs_err.npy\u001b[39m\u001b[38;5;124m\"\u001b[39m)\n",
      "File \u001b[1;32mc:\\Users\\Caleb\\HeartstepsDNN\\Heartsteps-DNN\\dnn_env\\Lib\\site-packages\\numpy\\lib\\_npyio_impl.py:455\u001b[0m, in \u001b[0;36mload\u001b[1;34m(file, mmap_mode, allow_pickle, fix_imports, encoding, max_header_size)\u001b[0m\n\u001b[0;32m    453\u001b[0m     own_fid \u001b[38;5;241m=\u001b[39m \u001b[38;5;28;01mFalse\u001b[39;00m\n\u001b[0;32m    454\u001b[0m \u001b[38;5;28;01melse\u001b[39;00m:\n\u001b[1;32m--> 455\u001b[0m     fid \u001b[38;5;241m=\u001b[39m stack\u001b[38;5;241m.\u001b[39menter_context(\u001b[38;5;28mopen\u001b[39m(os\u001b[38;5;241m.\u001b[39mfspath(file), \u001b[38;5;124m\"\u001b[39m\u001b[38;5;124mrb\u001b[39m\u001b[38;5;124m\"\u001b[39m))\n\u001b[0;32m    456\u001b[0m     own_fid \u001b[38;5;241m=\u001b[39m \u001b[38;5;28;01mTrue\u001b[39;00m\n\u001b[0;32m    458\u001b[0m \u001b[38;5;66;03m# Code to distinguish from NumPy binary files and pickles.\u001b[39;00m\n",
      "\u001b[1;31mFileNotFoundError\u001b[0m: [Errno 2] No such file or directory: 'experimental_results/drnn_mcar_N4_7_p5_blin_uv11_d2_abs_err.npy'"
     ]
    }
   ],
   "source": [
    "# lin\n",
    "direc = \"experimental_results\"\n",
    "drnn_err = np.load(direc + \"/drnn_mcar_N4_7_p5_blin_uv11_d2_abs_err.npy\")\n",
    "drnn_eta = np.load(direc + \"/drnn_mcar_N4_7_p5_blin_uv11_d2_abs_eta.npy\")\n",
    "unit_err = np.load(direc + \"/drnn_mcar_N4_7_p5_blin_uv11_d2_unit_abs_err.npy\")\n",
    "unit_eta = np.load(direc + \"/drnn_mcar_N4_7_p5_blin_uv11_d2_unit_abs_eta.npy\")\n",
    "time_err = np.load(direc + \"/drnn_mcar_N4_7_p5_blin_uv11_d2_time_abs_err.npy\")\n",
    "time_eta = np.load(direc + \"/drnn_mcar_N4_7_p5_blin_uv11_d2_time_abs_eta.npy\")\n",
    "usvt_err = np.load(direc + \"/drnn_mcar_N4_7_p5_blin_uv11_d2_usvt_abs_err.npy\")"
   ]
  },
  {
   "cell_type": "code",
   "execution_count": 45,
   "metadata": {},
   "outputs": [],
   "source": [
    "# non lin\n",
    "direc = \"experimental_results\"\n",
    "drnn_err = np.load(direc + \"/drnn_full_etarand_ssplit_mcar_N4_7_blin_uv11_d4_p5_abs_err.npy\")\n",
    "drnn_eta = np.load(direc + \"/drnn_full_etarand_ssplit_mcar_N4_7_blin_uv11_d4_p5_abs_eta.npy\")\n",
    "unit_err = np.load(direc + \"/drnn_full_etarand_ssplit_mcar_N4_7_blin_uv11_d4_p5_unit_abs_err.npy\")\n",
    "unit_eta = np.load(direc + \"/drnn_full_etarand_ssplit_mcar_N4_7_blin_uv11_d4_p5_unit_abs_eta.npy\")\n",
    "time_err = np.load(direc + \"/drnn_full_etarand_ssplit_mcar_N4_7_blin_uv11_d4_p5_time_abs_err.npy\")\n",
    "time_eta = np.load(direc + \"/drnn_full_etarand_ssplit_mcar_N4_7_blin_uv11_d4_p5_time_abs_eta.npy\")\n",
    "usvt_err = np.load(direc + \"/drnn_full_etarand_ssplit_mcar_N4_7_blin_uv11_d4_p5_usvt_abs_err.npy\")"
   ]
  },
  {
   "cell_type": "code",
   "execution_count": 39,
   "metadata": {},
   "outputs": [
    {
     "data": {
      "text/plain": [
       "array([[[0.72746856, 0.08082607, 1.0253298 , 0.45232819],\n",
       "        [0.92320475, 0.59711818, 3.15716637, 2.55901144],\n",
       "        [0.11874382, 1.96101792, 0.69914723, 1.43754237],\n",
       "        [2.47102949, 0.18925796, 2.73128068, 2.87104706],\n",
       "        [2.18211812, 0.88685697, 0.73912314, 2.84414331],\n",
       "        [2.37969395, 1.0797541 , 0.34089535, 3.30094505],\n",
       "        [0.15715628, 2.42321842, 0.51916395, 1.67126381],\n",
       "        [0.56404733, 2.16123298, 0.54809934, 0.15030665],\n",
       "        [2.74866301, 0.22242522, 0.16663039, 1.05262554],\n",
       "        [0.31309807, 1.29521254, 1.29807348, 2.64417896],\n",
       "        [1.51244509, 0.2373827 , 1.19372979, 1.13572045],\n",
       "        [0.31746061, 1.53450731, 1.57781677, 0.08991369],\n",
       "        [0.57827815, 2.0668107 , 2.24991024, 1.36201891],\n",
       "        [1.17796059, 2.7789275 , 1.6334622 , 1.95832545],\n",
       "        [0.0379964 , 0.07982948, 0.88057172, 0.24753434],\n",
       "        [2.65281079, 1.87164496, 2.65281079, 1.87164496],\n",
       "        [3.01350709, 3.4140561 , 2.27966635, 0.89463099],\n",
       "        [1.04546499, 0.63451598, 2.6587069 , 0.80755024],\n",
       "        [0.12440556, 0.68033946, 2.90815923, 1.15926576],\n",
       "        [0.07301977, 2.18509178, 0.07301977, 2.18509178],\n",
       "        [2.06094856, 1.22532726, 1.80582366, 2.03176761],\n",
       "        [0.55322058, 3.49300124, 0.8895973 , 1.02150646],\n",
       "        [3.38796835, 0.20200579, 2.10607809, 0.24404413],\n",
       "        [0.26715014, 2.6600363 , 0.97017132, 1.95140288],\n",
       "        [1.18565417, 0.05116833, 2.23161739, 1.0859116 ],\n",
       "        [1.35359676, 0.14945528, 1.47341955, 0.99337139],\n",
       "        [0.17866476, 1.44774784, 2.84779393, 2.17041649],\n",
       "        [1.60790001, 0.18409457, 0.80542704, 0.05037755],\n",
       "        [1.14347363, 0.20306229, 3.12250908, 3.24447495],\n",
       "        [3.34265643, 0.90588039, 0.79930495, 0.929081  ]],\n",
       "\n",
       "       [[0.83157115, 3.32513965, 2.27966635, 0.89463099],\n",
       "        [0.53770958, 1.73996194, 2.6587069 , 0.80755024],\n",
       "        [0.25326244, 0.80210295, 2.90815923, 1.15926576],\n",
       "        [1.03957669, 0.0119899 , 0.07301977, 2.18509178],\n",
       "        [1.66673658, 1.82033771, 1.80582366, 2.03176761],\n",
       "        [3.15254063, 3.45453972, 0.8895973 , 1.02150646],\n",
       "        [0.10894644, 2.83860064, 2.10607809, 0.24404413],\n",
       "        [1.08998326, 0.08762616, 0.97017132, 1.95140288],\n",
       "        [3.16253161, 0.01577659, 2.23161739, 1.0859116 ],\n",
       "        [1.34168099, 3.47087314, 1.47341955, 0.99337139],\n",
       "        [0.52018303, 2.56290517, 2.84779393, 2.17041649],\n",
       "        [1.56083448, 0.88751013, 0.80542704, 0.05037755],\n",
       "        [1.36612817, 1.03442694, 3.12250908, 3.24447495],\n",
       "        [3.2504891 , 1.32990172, 0.79930495, 0.929081  ],\n",
       "        [2.97615993, 0.88513371, 1.12944831, 2.54105329],\n",
       "        [3.1143865 , 0.08657793, 3.1374464 , 0.76997848],\n",
       "        [0.94756249, 0.57723866, 0.00654771, 3.3889454 ],\n",
       "        [2.8405186 , 0.08281407, 1.79225501, 3.09951832],\n",
       "        [0.32884822, 1.33270831, 1.9103482 , 2.17794708],\n",
       "        [0.00505556, 1.21936003, 1.30181457, 0.26113777],\n",
       "        [3.0640108 , 0.08280774, 1.38946844, 2.13474254],\n",
       "        [0.56831292, 0.50063361, 1.02453777, 0.93775214],\n",
       "        [0.67757253, 0.6000207 , 0.20160601, 1.43365953],\n",
       "        [0.13091121, 0.35975511, 1.07096073, 2.88457303],\n",
       "        [3.44950573, 0.01741137, 1.81152291, 0.1287957 ],\n",
       "        [0.03032224, 0.63934466, 0.61727565, 0.72316514],\n",
       "        [0.39824299, 2.81414681, 1.05858555, 3.20472315],\n",
       "        [0.06129186, 3.05073873, 0.44051323, 1.35701461],\n",
       "        [0.73764776, 3.48205264, 0.22735909, 1.46586846],\n",
       "        [0.261526  , 0.18524303, 2.09710475, 2.41907175]],\n",
       "\n",
       "       [[3.39809584, 0.80386679, 1.94239224, 0.52519281],\n",
       "        [1.62212104, 0.05888091, 0.4812305 , 2.33658062],\n",
       "        [0.1258119 , 3.46728364, 3.02720372, 2.46142207],\n",
       "        [1.03837204, 0.25679607, 0.05275808, 3.36011876],\n",
       "        [0.27455024, 0.58618561, 1.91376988, 2.3693478 ],\n",
       "        [0.9854808 , 0.52697554, 0.17383087, 1.83154632],\n",
       "        [2.19546572, 0.48090337, 1.56896254, 0.46487822],\n",
       "        [0.73158115, 3.39626659, 0.38922612, 0.60033233],\n",
       "        [0.06213749, 0.27647624, 0.12638663, 0.86071147],\n",
       "        [0.08557191, 1.8032093 , 3.17291853, 1.29812325],\n",
       "        [0.8670298 , 0.6893225 , 1.90956967, 1.77597469],\n",
       "        [0.07497557, 3.19816607, 0.94315203, 0.69107875],\n",
       "        [0.48696988, 2.70604114, 2.34835167, 2.3814102 ],\n",
       "        [2.96383541, 3.49615073, 3.0404177 , 2.52761943],\n",
       "        [0.08055507, 0.52667333, 2.68322999, 1.04536994],\n",
       "        [2.29413672, 1.5575816 , 0.81088276, 3.2247663 ],\n",
       "        [0.23221899, 3.19632428, 0.21687119, 2.31651816],\n",
       "        [0.3933578 , 2.81016703, 2.04983905, 1.22596996],\n",
       "        [3.49611087, 0.20041685, 1.27861013, 1.30142239],\n",
       "        [0.19740838, 3.01814921, 0.06121206, 2.64911864],\n",
       "        [0.21562528, 2.74509969, 2.96123615, 0.74825045],\n",
       "        [1.84228796, 0.20540752, 2.69089492, 2.74004537],\n",
       "        [1.14618358, 2.98873814, 3.48512083, 0.13263783],\n",
       "        [0.85802254, 0.06094706, 2.79450787, 0.5364797 ],\n",
       "        [0.58784448, 0.28294012, 0.97831517, 1.99956748],\n",
       "        [0.98993197, 0.05382312, 1.7563007 , 1.84010621],\n",
       "        [0.5651298 , 0.44918521, 3.2014605 , 2.41271376],\n",
       "        [1.18051297, 0.06683828, 2.95174191, 1.4459389 ],\n",
       "        [0.96423598, 0.41186903, 0.77332766, 1.57753908],\n",
       "        [0.5302416 , 2.47635252, 0.29897292, 2.92175898]],\n",
       "\n",
       "       [[1.23305601, 1.24638784, 2.81744333, 2.63101616],\n",
       "        [2.01709832, 0.10109187, 1.61244353, 1.18929441],\n",
       "        [1.66422388, 0.29857863, 1.35554758, 1.47051812],\n",
       "        [0.65376706, 0.22879737, 2.15827065, 0.65996545],\n",
       "        [2.83962037, 0.00447011, 0.58534364, 1.01629317],\n",
       "        [0.08052896, 0.32606816, 2.09760162, 1.21729149],\n",
       "        [1.06016637, 0.9085999 , 1.35707675, 3.25925555],\n",
       "        [0.22984855, 3.48962669, 2.06585639, 0.16497528],\n",
       "        [0.09765053, 3.40749245, 2.53554431, 0.03492982],\n",
       "        [0.02117841, 1.03586212, 1.07282836, 2.79350824],\n",
       "        [0.23918013, 2.63870672, 0.99242376, 3.31466415],\n",
       "        [2.61751674, 0.10872287, 1.77800927, 1.40932169],\n",
       "        [0.93184837, 0.44406803, 1.75336922, 0.91040251],\n",
       "        [1.14211645, 0.12150926, 0.4350739 , 3.0282309 ],\n",
       "        [1.56308745, 0.14033768, 1.37417512, 3.13249502],\n",
       "        [0.55559379, 0.56235468, 3.20613642, 0.9961818 ],\n",
       "        [2.56290753, 0.59687894, 2.8454553 , 1.45914328],\n",
       "        [0.22698405, 3.36487305, 3.01483332, 0.01808705],\n",
       "        [0.86921877, 0.05348612, 1.18118848, 0.83066775],\n",
       "        [0.39868402, 3.36780574, 0.87078419, 1.34289827],\n",
       "        [0.13294467, 1.68739726, 0.79051983, 0.74367838],\n",
       "        [3.49273445, 0.06715619, 2.71331317, 1.335476  ],\n",
       "        [0.11892931, 0.70803875, 1.07325027, 0.35166157],\n",
       "        [0.25060065, 1.02880872, 2.09002055, 1.21827114],\n",
       "        [0.02986077, 0.84038943, 3.14860661, 0.1173105 ],\n",
       "        [1.65354372, 0.09745032, 0.49362954, 1.00897603],\n",
       "        [0.19101682, 2.38265078, 1.39396726, 2.324458  ],\n",
       "        [0.39887312, 0.17898079, 1.17435551, 2.42905392],\n",
       "        [1.82549415, 2.01537487, 0.14802033, 2.12653987],\n",
       "        [1.55036915, 0.89721648, 3.02453154, 2.50641636]]])"
      ]
     },
     "execution_count": 39,
     "metadata": {},
     "output_type": "execute_result"
    }
   ],
   "source": [
    "drnn_eta"
   ]
  },
  {
   "cell_type": "code",
   "execution_count": 267,
   "metadata": {},
   "outputs": [
    {
     "data": {
      "text/plain": [
       "array([[0.19049707, 0.44274251, 0.7359814 , 0.06691642, 0.25980295],\n",
       "       [0.14018141, 0.23519809, 0.09672301, 0.23492119, 0.31464201],\n",
       "       [0.10535198, 0.21144758, 0.30424297, 0.1759658 , 0.12380815]])"
      ]
     },
     "execution_count": 267,
     "metadata": {},
     "output_type": "execute_result"
    }
   ],
   "source": [
    "unit_err"
   ]
  },
  {
   "cell_type": "code",
   "execution_count": 252,
   "metadata": {},
   "outputs": [
    {
     "data": {
      "text/plain": [
       "array([0.27203086, 0.29372164, 0.22382277, 0.31656219])"
      ]
     },
     "execution_count": 252,
     "metadata": {},
     "output_type": "execute_result"
    }
   ],
   "source": [
    "np.mean(usvt_err, axis = 1)"
   ]
  },
  {
   "cell_type": "code",
   "execution_count": 170,
   "metadata": {},
   "outputs": [
    {
     "data": {
      "text/plain": [
       "array([0.23176358, 0.30861153, 0.20899622, 0.32505002])"
      ]
     },
     "execution_count": 170,
     "metadata": {},
     "output_type": "execute_result"
    }
   ],
   "source": [
    "np.mean(usvt_none_err, axis = 1)"
   ]
  },
  {
   "cell_type": "code",
   "execution_count": 168,
   "metadata": {},
   "outputs": [
    {
     "name": "stdout",
     "output_type": "stream",
     "text": [
      "[0.22577931 0.30861153 0.20899622 0.32505002]\n"
     ]
    }
   ],
   "source": [
    "print(np.mean(usvt_err, axis = 1))"
   ]
  },
  {
   "cell_type": "code",
   "execution_count": 46,
   "metadata": {},
   "outputs": [
    {
     "name": "stdout",
     "output_type": "stream",
     "text": [
      "[[1.27332686 1.23006019 1.54615019 1.48058143]\n",
      " [1.31580165 1.30992265 1.4729363  1.58989464]\n",
      " [1.01619343 1.42656792 1.66942313 1.72008466]\n",
      " [1.02162142 1.07830606 1.70532066 1.50136606]]\n",
      "[[1.54615019 0.8527441 ]\n",
      " [0.81051823 1.4729363 ]\n",
      " [0.99446249 1.66942313]\n",
      " [0.97923836 1.70532066]]\n",
      "[[1.54615019 1.54615019]\n",
      " [1.4729363  1.4729363 ]\n",
      " [1.66942313 1.66942313]\n",
      " [1.70532066 1.70532066]]\n"
     ]
    }
   ],
   "source": [
    "print(np.mean(drnn_eta, axis = 1))\n",
    "print(np.mean(unit_eta, axis = 1))\n",
    "print(np.mean(time_eta, axis = 1))"
   ]
  },
  {
   "cell_type": "code",
   "execution_count": 151,
   "metadata": {},
   "outputs": [
    {
     "data": {
      "text/plain": [
       "(4, 30)"
      ]
     },
     "execution_count": 151,
     "metadata": {},
     "output_type": "execute_result"
    }
   ],
   "source": [
    "time_err.shape"
   ]
  },
  {
   "cell_type": "code",
   "execution_count": 139,
   "metadata": {},
   "outputs": [
    {
     "name": "stdout",
     "output_type": "stream",
     "text": [
      "[2.42934940e-03 1.29768672e-02 4.65932916e-02 1.78040996e-01\n",
      " 1.44929294e-01 1.45246665e-01 1.84626136e-01 7.60284072e-02\n",
      " 1.29660094e-02 5.53312483e-01 2.64749810e-01 7.64822701e-04\n",
      " 1.99153924e-02 2.24774452e-01 3.96110555e-01 6.04077505e-06\n",
      " 2.16726590e-01 2.46072400e-01 1.01351652e-01 6.47672142e-03\n",
      " 1.20048046e-01 7.46675163e-05 1.52899070e-01 1.68927305e-02\n",
      " 1.28290930e-02 7.62160529e-03 4.53408707e-02 4.33406508e-02\n",
      " 1.32820265e-01 2.21248150e-01]\n",
      "[2.06139398e-02 5.59055190e-02 1.02070369e-01 3.77911628e-02\n",
      " 4.07020568e-01 2.37245992e-02 8.09593070e-02 1.12080865e-04\n",
      " 3.10315843e-03 5.14213356e-01 1.61391339e-02 1.38465802e-02\n",
      " 2.96174447e-02 2.25622341e-01 3.38360359e-02 1.42661439e-03\n",
      " 3.54536217e-01 6.83388165e-01 4.28009166e-01 1.05633689e-01\n",
      " 5.22571505e-02 5.16358514e-02 2.53199438e-01 8.04085611e-05\n",
      " 1.48270261e-01 4.55968018e-02 3.11504218e-03 8.02514112e-03\n",
      " 2.63075629e-01 1.23216247e-01]\n",
      "[2.20998722e-01 1.43983217e-01 6.00814466e-02 1.79526352e-01\n",
      " 6.95949280e-02 8.35299475e-03 3.32879913e-01 1.07358709e-01\n",
      " 2.33794027e-03 3.58005439e-01 3.49584200e-01 2.39986930e-02\n",
      " 3.89150339e-02 7.03147907e-01 1.98581520e-01 2.49815063e-03\n",
      " 1.61047330e-02 1.32703135e-01 4.54867104e-01 2.04190884e-02\n",
      " 1.74845581e-02 6.56426607e-03 1.25452748e-01 1.31468979e-02\n",
      " 3.77081688e-05 7.16188967e-02 4.20860329e-03 1.43789728e-01\n",
      " 2.29867083e-01 1.24132729e-01]\n"
     ]
    }
   ],
   "source": [
    "print(drnn_err[1])\n",
    "print(unit_err[1])\n",
    "print(time_err[1])"
   ]
  },
  {
   "cell_type": "code",
   "execution_count": 257,
   "metadata": {},
   "outputs": [
    {
     "data": {
      "text/plain": [
       "array([0.22358487, 0.24169616, 0.04745705, 0.05238776])"
      ]
     },
     "execution_count": 257,
     "metadata": {},
     "output_type": "execute_result"
    }
   ],
   "source": [
    "np.std(drnn_err, axis =1)\n",
    "np.std(unit_err, axis = 1)\n",
    "np.std(time_err, axis = 1)"
   ]
  },
  {
   "cell_type": "code",
   "execution_count": 228,
   "metadata": {},
   "outputs": [
    {
     "data": {
      "text/plain": [
       "array([[2.32266766e-01, 4.34600401e-01, 5.97453611e-01, 1.04824433e-01,\n",
       "        1.42354041e-01, 1.25777377e-01, 1.93258314e-01, 1.09489100e-01,\n",
       "        8.18878380e-02, 1.00930604e-01, 8.69216102e-02, 6.42165385e-03,\n",
       "        1.60874612e-01, 5.51877229e-01, 5.24522760e-01, 2.78002338e-01,\n",
       "        4.23078037e-01, 4.85445380e-01, 2.49379953e-02, 7.75146770e-02,\n",
       "        1.24383424e-05, 2.10947591e-01, 2.60071157e-01, 5.65432155e-01,\n",
       "        1.03149644e-01, 1.38031260e-01, 3.00617030e-02, 1.63203784e-01,\n",
       "        4.17791461e-01, 9.21942740e-02],\n",
       "       [1.04116040e-01, 1.09071714e-01, 1.38949257e-01, 4.62974814e-01,\n",
       "        3.98327684e-01, 2.55227742e-01, 1.50816793e-01, 1.27219361e-01,\n",
       "        1.37099487e-01, 7.43751037e-01, 1.69196179e-01, 1.06883168e-01,\n",
       "        3.61920098e-01, 7.40038723e-02, 7.05857467e-02, 3.47871045e-01,\n",
       "        1.92285476e-01, 3.39861474e-01, 1.51310356e-01, 9.04896988e-01,\n",
       "        3.09281830e-01, 6.04386145e-02, 6.27526857e-01, 2.15438684e-01,\n",
       "        2.14766785e-01, 9.19028885e-01, 2.10072138e-01, 9.82980142e-02,\n",
       "        3.43250269e-01, 5.45108790e-01],\n",
       "       [5.02271097e-02, 1.66547691e-01, 2.26281370e-01, 2.71506558e-01,\n",
       "        2.18893174e-01, 8.35816765e-02, 8.65821535e-02, 7.69761061e-02,\n",
       "        2.43844507e-01, 1.39252697e-01, 3.51153945e-01, 3.78423873e-01,\n",
       "        7.10820418e-02, 2.96838787e-01, 1.17953675e-01, 1.46020170e-01,\n",
       "        1.17697035e-01, 1.92430456e-01, 1.98027631e-01, 1.89407014e-01,\n",
       "        6.14084143e-02, 3.84147611e-01, 2.23956543e-01, 2.58266640e-01,\n",
       "        3.20044589e-01, 2.76240853e-01, 3.72206867e-01, 2.52556107e-01,\n",
       "        1.36809817e-01, 3.61521358e-01],\n",
       "       [2.67887323e-01, 5.76647466e-01, 1.26298192e-01, 3.81282625e-01,\n",
       "        1.47899943e-01, 1.15470289e-01, 9.50652672e-01, 2.32570508e-01,\n",
       "        2.66910302e-01, 1.40247124e-01, 2.24426339e-01, 2.64872037e-01,\n",
       "        2.67493005e-01, 1.81847868e-01, 2.51637217e-01, 2.45430301e-01,\n",
       "        1.98649095e-01, 2.08403503e-01, 1.42035132e-01, 7.72789920e-01,\n",
       "        8.47348188e-01, 7.26944259e-01, 3.02541140e-01, 3.53828006e-01,\n",
       "        3.56468799e-01, 3.50177932e-01, 1.96680070e-01, 1.66510777e-01,\n",
       "        3.44942770e-01, 1.42607740e-01]])"
      ]
     },
     "execution_count": 228,
     "metadata": {},
     "output_type": "execute_result"
    }
   ],
   "source": [
    "usvt_err"
   ]
  },
  {
   "cell_type": "code",
   "execution_count": 117,
   "metadata": {},
   "outputs": [
    {
     "data": {
      "text/plain": [
       "array([[0.07946436, 0.25661346, 0.0116677 , 0.23973342, 0.18415741],\n",
       "       [0.27480137, 0.14236181, 0.29941581, 0.01302101, 0.22232017],\n",
       "       [0.26547061, 0.29813501, 0.29791452, 0.2686998 , 0.28145807],\n",
       "       [0.2998253 , 0.29996293, 0.28981846, 0.29988363, 0.26329515]])"
      ]
     },
     "execution_count": 117,
     "metadata": {},
     "output_type": "execute_result"
    }
   ],
   "source": [
    "_eta"
   ]
  },
  {
   "cell_type": "code",
   "execution_count": 11,
   "metadata": {},
   "outputs": [],
   "source": [
    "import matplotlib as mpl"
   ]
  },
  {
   "cell_type": "code",
   "execution_count": 53,
   "metadata": {},
   "outputs": [],
   "source": [
    "plt.rc('font', family='serif')\n",
    "plt.rc('text', usetex=False)\n",
    "plt.rc('axes', axisbelow=True)\n",
    "label_size = 20\n",
    "mpl.rcParams['xtick.labelsize'] = label_size \n",
    "mpl.rcParams['ytick.labelsize'] = label_size \n",
    "mpl.rcParams['axes.labelsize'] = label_size\n",
    "mpl.rcParams['axes.titlesize'] = label_size\n",
    "mpl.rcParams['figure.titlesize'] = label_size\n",
    "mpl.rcParams['lines.markersize'] = label_size\n",
    "mpl.rcParams['grid.linewidth'] = 2.5\n",
    "mpl.rcParams['legend.fontsize'] = label_size\n",
    "\n",
    "\n",
    "lss = ['--',  ':', '-.', '-', '--', '-.', ':', '-', '--', '-.', ':', '-']\n",
    "mss = ['x', 'o', '>', 's', 'D', '>', 'D', '>', 's', 'o', 'D']\n"
   ]
  },
  {
   "cell_type": "code",
   "execution_count": 15,
   "metadata": {},
   "outputs": [
    {
     "data": {
      "text/plain": [
       "(4, 30, 2)"
      ]
     },
     "execution_count": 15,
     "metadata": {},
     "output_type": "execute_result"
    }
   ],
   "source": [
    "time_err.shape"
   ]
  },
  {
   "cell_type": "code",
   "execution_count": 54,
   "metadata": {},
   "outputs": [
    {
     "name": "stderr",
     "output_type": "stream",
     "text": [
      "C:\\Users\\Caleb\\AppData\\Local\\Temp\\ipykernel_28852\\2317079737.py:38: UserWarning: marker is redundantly defined by the 'marker' keyword argument and the fmt string \"s\" (-> marker='s'). The keyword argument will take precedence.\n",
      "  plt.errorbar(T_values, TimeNN_errors, yerr=tnn_stderr, fmt='s', color = \"orange\", marker='s', linestyle='None', markersize=12, label=rf'Time-NN: $T^{{{tnn_slope:.2f}}}$')\n",
      "C:\\Users\\Caleb\\AppData\\Local\\Temp\\ipykernel_28852\\2317079737.py:44: UserWarning: Attempt to set non-positive ylim on a log-scaled axis will be ignored.\n",
      "  plt.ylim(0, 0.75)\n"
     ]
    },
    {
     "data": {
      "image/png": "[encoded data removed]",
      "text/plain": [
       "<Figure size 640x480 with 1 Axes>"
      ]
     },
     "metadata": {},
     "output_type": "display_data"
    }
   ],
   "source": [
    "import numpy as np\n",
    "import matplotlib.pyplot as plt\n",
    "\n",
    "# Define T values and corresponding error rates for each method\n",
    "T_values = np.array([2**4, 2**5, 2**6, 2**7])\n",
    "\n",
    "UserNN_errors = np.nanmean(unit_err, axis = 1)\n",
    "TimeNN_errors = np.nanmean(time_err, axis = 1)\n",
    "DRNN_errors = np.nanmean(drnn_err, axis = 1)\n",
    "USVT_errors = np.nanmean(usvt_err, axis = 1)\n",
    "\n",
    "unn_stderr = np.nanstd(unit_err, axis = 1) / np.sqrt(unit_err.shape[1])\n",
    "tnn_stderr = np.nanstd(time_err, axis = 1) / np.sqrt(time_err.shape[1])\n",
    "drnn_stderr = np.nanstd(drnn_err, axis = 1) / np.sqrt(drnn_err.shape[1])\n",
    "usvt_stderr = np.nanstd(usvt_err, axis = 1) / np.sqrt(usvt_err.shape[1])\n",
    "\n",
    "\n",
    "\n",
    "# Create the plot\n",
    "plt.figure()\n",
    "#plt.plot(T_values, USVT_errors, 'r', linestyle='-', marker='D', markersize=8, linewidth=2, label=r'USVT: $T^{-0.46}$')\n",
    "\n",
    "def add_regression_line(x, y, color, label, linestyle):\n",
    "    # Fit a line to log-transformed data\n",
    "    slope, intercept = np.polyfit(np.log2(x), np.log2(y), 1)\n",
    "    plt.plot(x, 2**(intercept) * x**slope, color=color, linestyle=linestyle, linewidth=2) \n",
    "             #label=f\"{label} (slope: {slope:.2f})\")\n",
    "    return slope\n",
    "\n",
    "usvt_slope = add_regression_line(T_values, USVT_errors, 'red', 'USVT', '--')\n",
    "unn_slope = add_regression_line(T_values, UserNN_errors, 'green', 'User-NN', ':')\n",
    "tnn_slope = add_regression_line(T_values, TimeNN_errors, 'orange', 'Time-NN', ':')\n",
    "drnn_slope = add_regression_line(T_values, DRNN_errors, 'blue', 'DR-NN', '--')\n",
    "\n",
    "# Plot each method with corresponding markers, colors, and line styles\n",
    "plt.errorbar(T_values, USVT_errors, yerr=usvt_stderr, fmt = 'r', marker='>', markersize=12, linestyle='None', barsabove=True, label=rf'USVT: $T^{{{usvt_slope:.2f}}}$')\n",
    "plt.errorbar(T_values, UserNN_errors, yerr=unn_stderr, fmt = 'g', marker='o', markersize=12, linestyle='None', label=rf'User-NN: $T^{{{unn_slope:.2f}}}$')\n",
    "plt.errorbar(T_values, TimeNN_errors, yerr=tnn_stderr, fmt='s', color = \"orange\", marker='s', linestyle='None', markersize=12, label=rf'Time-NN: $T^{{{tnn_slope:.2f}}}$')\n",
    "plt.errorbar(T_values, DRNN_errors, fmt='bD', yerr=drnn_stderr, markersize=12, linestyle=\"None\", label=rf'DR-NN: $T^{{{drnn_slope:.2f}}}$')\n",
    "\n",
    "# Logarithmic scale for both axes\n",
    "plt.xscale('log', base=2)\n",
    "plt.yscale('log', base=2)\n",
    "plt.ylim(0, 0.75)\n",
    "# Axis labels\n",
    "plt.xlabel(r'T', fontsize=14)\n",
    "plt.ylabel(r'Error for t = T, a = 1', fontsize=14)\n",
    "\n",
    "# Title\n",
    "plt.title(r'Decay of avg. error across users (N = T, 30 trials)', fontsize=16)\n",
    "\n",
    "# Add legend\n",
    "plt.legend(fontsize=12)\n",
    "\n",
    "# Grid for better readability\n",
    "#plt.grid(True, which=\"both\", linestyle='--', linewidth=0.5)\n",
    "ax1 = plt.gca()\n",
    "ax1.spines['top'].set_visible(False)\n",
    "ax1.spines['right'].set_visible(False)\n",
    "ax1.spines['left'].set_visible(False)\n",
    "ax1.grid(True, alpha=0.4)\n",
    "\n",
    "\n",
    "# Show the plot#\n",
    "plt.savefig(\"drnn_mcar_nonlin_uv11_abserr_decay.pdf\", bbox_inches = \"tight\")\n"
   ]
  },
  {
   "cell_type": "code",
   "execution_count": 289,
   "metadata": {},
   "outputs": [
    {
     "data": {
      "text/plain": [
       "array([0.27203086, 0.29372164, 0.22382277, 0.31656219])"
      ]
     },
     "execution_count": 289,
     "metadata": {},
     "output_type": "execute_result"
    }
   ],
   "source": [
    "np.mean(usvt_err, axis = 1)"
   ]
  },
  {
   "cell_type": "code",
   "execution_count": 332,
   "metadata": {},
   "outputs": [],
   "source": [
    "usvt_errs = np.load('drnn_mcar_N128_abs_usvt_errors.npy')\n",
    "user_nn_errs = np.load('drnn_mcar_N128_abs_unit_errors.npy')\n",
    "time_nn_errs = np.load('drnn_mcar_N128_abs_time_errors.npy')\n",
    "drnn_errs = np.load('drnn_mcar_N128_abs_drnn_errors.npy')"
   ]
  },
  {
   "cell_type": "code",
   "execution_count": 191,
   "metadata": {},
   "outputs": [
    {
     "data": {
      "text/plain": [
       "(28,)"
      ]
     },
     "execution_count": 191,
     "metadata": {},
     "output_type": "execute_result"
    }
   ],
   "source": [
    "usvt_errs.shape"
   ]
  },
  {
   "cell_type": "code",
   "execution_count": 302,
   "metadata": {},
   "outputs": [
    {
     "data": {
      "text/plain": [
       "array([2.16184339e-01, 5.43714437e-01, 3.91585739e-01, 2.64486704e-01,\n",
       "       4.89581357e-02, 8.93613081e-02, 3.33265621e-01, 8.47672345e-01,\n",
       "       9.24952951e-02, 3.23889493e-01, 2.10114779e-01, 7.98956839e-01,\n",
       "       1.45061208e+00, 4.98453656e-03, 1.40218029e-01, 9.43763697e-01,\n",
       "       1.38451395e-02, 1.35431420e-02, 5.12074001e-03, 5.02384478e-03,\n",
       "       1.49401358e-01, 1.29671857e+00, 1.47994707e+00, 4.96969595e-02,\n",
       "       5.41559944e-01, 1.72945506e-01, 4.44640616e-01, 5.54406406e-02,\n",
       "       7.15755927e-02, 2.39419671e-01, 4.91525406e-01, 1.01961532e-02,\n",
       "       3.72377823e-01, 1.43246220e-02, 5.72391323e-01, 3.62975605e-02,\n",
       "       2.59172107e-02, 9.00277441e-03, 2.63918833e-01, 9.98676641e-04,\n",
       "       3.77674766e-01, 8.37615885e-02, 3.62180426e-01, 4.50930714e-01,\n",
       "       4.97925063e-01, 3.51285049e-01, 1.85415633e+00, 8.51979237e-02,\n",
       "       6.87054363e-03, 9.22390308e-03, 2.01115093e-03, 9.47036994e-01,\n",
       "       3.05270128e-01, 3.60161328e-01, 6.12174940e-01, 1.73072373e-01,\n",
       "       3.48168372e-01, 3.37630310e-02, 1.63469389e-01, 3.60864892e-03,\n",
       "       1.60596731e-01, 3.10506275e-01, 3.04540182e-01])"
      ]
     },
     "execution_count": 302,
     "metadata": {},
     "output_type": "execute_result"
    }
   ],
   "source": [
    "usvt_errs"
   ]
  },
  {
   "cell_type": "code",
   "execution_count": 306,
   "metadata": {},
   "outputs": [
    {
     "data": {
      "text/plain": [
       "(63,)"
      ]
     },
     "execution_count": 306,
     "metadata": {},
     "output_type": "execute_result"
    }
   ],
   "source": [
    "user_nn_errs.shape"
   ]
  },
  {
   "cell_type": "code",
   "execution_count": 41,
   "metadata": {},
   "outputs": [
    {
     "ename": "NameError",
     "evalue": "name 'usvt_errs' is not defined",
     "output_type": "error",
     "traceback": [
      "\u001b[1;31m---------------------------------------------------------------------------\u001b[0m",
      "\u001b[1;31mNameError\u001b[0m                                 Traceback (most recent call last)",
      "Cell \u001b[1;32mIn[41], line 5\u001b[0m\n\u001b[0;32m      2\u001b[0m \u001b[38;5;28;01mimport\u001b[39;00m \u001b[38;5;21;01mnumpy\u001b[39;00m \u001b[38;5;28;01mas\u001b[39;00m \u001b[38;5;21;01mnp\u001b[39;00m\n\u001b[0;32m      4\u001b[0m \u001b[38;5;66;03m# Sample data (replace with your actual data)\u001b[39;00m\n\u001b[1;32m----> 5\u001b[0m usvt_data \u001b[38;5;241m=\u001b[39m \u001b[43musvt_errs\u001b[49m  \u001b[38;5;66;03m# Replace with your actual USVT data\u001b[39;00m\n\u001b[0;32m      6\u001b[0m user_nn_data \u001b[38;5;241m=\u001b[39m user_nn_errs  \u001b[38;5;66;03m# Replace with your actual User-NN data\u001b[39;00m\n\u001b[0;32m      7\u001b[0m time_nn_data \u001b[38;5;241m=\u001b[39m time_nn_errs \u001b[38;5;66;03m# Replace with your actual Time-NN data\u001b[39;00m\n",
      "\u001b[1;31mNameError\u001b[0m: name 'usvt_errs' is not defined"
     ]
    }
   ],
   "source": [
    "import matplotlib.pyplot as plt\n",
    "import numpy as np\n",
    "\n",
    "# Sample data (replace with your actual data)\n",
    "usvt_data = usvt_errs  # Replace with your actual USVT data\n",
    "user_nn_data = user_nn_errs  # Replace with your actual User-NN data\n",
    "time_nn_data = time_nn_errs # Replace with your actual Time-NN data\n",
    "dr_nn_data = drnn_errs  # Replace with your actual DR-NN data\n",
    "\n",
    "# Combine data into a list for plotting\n",
    "data = [usvt_data, user_nn_data, time_nn_data, dr_nn_data]\n",
    "\n",
    "# Set up the plot\n",
    "plt.figure(figsize=(6, 10))\n",
    "\n",
    "# Create boxplot\n",
    "box = plt.boxplot(data, patch_artist=True, widths=0.6)\n",
    "\n",
    "# Customizing colors for each boxplot\n",
    "colors = ['#FF6F61', '#4CAF50', '#FFB74D', '#1E88E5']\n",
    "for patch, color in zip(box['boxes'], colors):\n",
    "    patch.set_facecolor(color)\n",
    "\n",
    "for median in box['medians']:\n",
    "    median.set_color('black')  \n",
    "# Set y-axis limit\n",
    "#plt.ylim(0, 0.4)\n",
    "plt.ylim(0, None)\n",
    "\n",
    "# Add labels and title\n",
    "plt.xticks([1, 2, 3, 4], ['USVT', 'User-NN', 'Time-NN', 'DR-NN'], fontsize=12)\n",
    "plt.ylabel(r'Error for $t = T$ and $a = 1$', fontsize=14)\n",
    "plt.title(r'Variation of error across users  $(N = T = 128, \\; 1 \\; \\text{Trial})$', fontsize=16)\n",
    "\n",
    "ax1 = plt.gca()\n",
    "ax1.spines['top'].set_visible(False)\n",
    "ax1.spines['right'].set_visible(False)\n",
    "ax1.spines['left'].set_visible(False)\n",
    "ax1.grid(True, alpha=0.4)\n",
    "\n",
    "# Customize grid lines\n",
    "# plt.grid(True, which=\"both\", linestyle='--', linewidth=0.5)\n",
    "\n",
    "# Show the plot\n",
    "#plt.savefig(\"drnn_variation_abs_error_NT128.pdf\", bbox_inches = \"tight\")"
   ]
  }
 ],
 "metadata": {
  "kernelspec": {
   "display_name": "dnn_env",
   "language": "python",
   "name": "python3"
  },
  "language_info": {
   "codemirror_mode": {
    "name": "ipython",
    "version": 3
   },
   "file_extension": ".py",
   "mimetype": "text/x-python",
   "name": "python",
   "nbconvert_exporter": "python",
   "pygments_lexer": "ipython3",
   "version": "3.11.5"
  }
 },
 "nbformat": 4,
 "nbformat_minor": 2
}
