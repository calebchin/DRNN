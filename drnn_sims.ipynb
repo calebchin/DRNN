{
 "cells": [
  {
   "cell_type": "code",
   "execution_count": 2,
   "metadata": {},
   "outputs": [],
   "source": [
    "from drnn import DRNN\n",
    "import numpy as np\n",
    "import matplotlib.pyplot as plt\n",
    "\n",
    "from hyperopt import hp"
   ]
  },
  {
   "cell_type": "code",
   "execution_count": 3,
   "metadata": {},
   "outputs": [],
   "source": [
    "%load_ext autoreload\n",
    "%autoreload 2"
   ]
  },
  {
   "cell_type": "code",
   "execution_count": 33,
   "metadata": {},
   "outputs": [],
   "source": [
    "expit = lambda x : np.exp(x)/(1 + np.exp(x))\n",
    "\n",
    "def gendata_mcar(N, T, p, seed, r = 1) : \n",
    "    \"\"\" \n",
    "    Generates Gaussian data, with latent dimension r = 2\n",
    "\n",
    "    required : N, d are both EVEN positive integers\n",
    "    \"\"\"\n",
    "    np.random.seed(seed = seed)\n",
    "\n",
    "    ## Data Matrix (N * T * n * d)\n",
    "    Data = np.zeros( (N, T) )\n",
    "    #true_Mean = np.zeros( (N, T) )\n",
    "    #true_Cov = np.zeros( (N, T) )\n",
    "\n",
    "    u_1 = np.random.uniform(-1, 1, (N, r))\n",
    "    u_2 = np.random.uniform(0.2, 1, (N, r))\n",
    "\n",
    "    v_1 = np.random.uniform(-2, 2, (T, r))\n",
    "    v_2 = np.random.uniform(0.5, 2, (T, r))\n",
    "\n",
    "    user_std = 0.3\n",
    "    time_std = 0.3\n",
    "\n",
    "    #even_ones = np.repeat([0, 1], d/2)\n",
    "    #odd_ones = np.repeat([1, 0], d/2)\n",
    "    #U = np.random.uniform(size=(N,r)) * user_range * 2 - user_range\n",
    "    #V = np.random.uniform(size=(T,r)) * time_range * 2 - time_range\n",
    "    Y0 = 1/np.sqrt(r) * np.matmul(u_1, v_1.transpose())\n",
    "\n",
    "    a = np.random.normal(0, user_std, size=N)\n",
    "    b = np.random.normal(0, time_std, size=T)\n",
    "    eps = np.random.normal(0, 0.05, size=(N, T))\n",
    "\n",
    "    # treatment effect\n",
    "    # delta(i,j) = a(i) + b(t) + eps(i,t)\n",
    "\n",
    "    aa = np.broadcast_to(a.reshape(N,1), (N,T))\n",
    "    bb = np.broadcast_to(b, (N,T))\n",
    "    delta = aa + bb + eps \n",
    "    Y1 = Y0 + delta \n",
    "\n",
    "    Y1 += np.random.normal(0, 0.001, size=(N,T))\n",
    "    Y0 += np.random.normal(0, 0.001, size=(N,T))\n",
    "    #D = np.stack([Y0, Y1], axis=-1)\n",
    "    \n",
    "    Masking = np.zeros( (N, T) )\n",
    "\n",
    "    Masking = np.reshape(np.random.binomial(1, p, (N*T)), (N, T))\n",
    "\n",
    "    # for sim purpose, last row, last column is observed\n",
    "    Masking[N - 1, T - 1] = 1\n",
    "    Data = np.zeros((N, T))\n",
    "    Data[Masking == 1] = Y1[Masking == 1]\n",
    "    Data[Masking == 0] = Y0[Masking == 0]\n",
    "\n",
    "\n",
    "    return Data, Masking"
   ]
  },
  {
   "cell_type": "code",
   "execution_count": 34,
   "metadata": {},
   "outputs": [
    {
     "data": {
      "text/plain": [
       "(200, 200)"
      ]
     },
     "execution_count": 34,
     "metadata": {},
     "output_type": "execute_result"
    },
    {
     "data": {
      "image/png": "[encoded data removed]",
      "text/plain": [
       "<Figure size 480x480 with 1 Axes>"
      ]
     },
     "metadata": {},
     "output_type": "display_data"
    }
   ],
   "source": [
    "Z, M = gendata_mcar(200, 200, p = 0.3, seed = 42)\n",
    "plt.matshow(M)\n",
    "Z.shape"
   ]
  },
  {
   "cell_type": "code",
   "execution_count": 35,
   "metadata": {},
   "outputs": [],
   "source": [
    "N, T = M.shape\n",
    "obvs_inds = np.nonzero(M == 1)\n",
    "rq_obvs_inds_x = obvs_inds[0][np.logical_and(obvs_inds[0] >= T // 2, obvs_inds[1] >= N // 2)]\n",
    "rq_obvs_inds_y = obvs_inds[1][np.logical_and(obvs_inds[1] >= N // 2, obvs_inds[0] >= T // 2)]\n",
    "rq_inds = (rq_obvs_inds_x, rq_obvs_inds_y)\n"
   ]
  },
  {
   "cell_type": "code",
   "execution_count": 36,
   "metadata": {},
   "outputs": [],
   "source": [
    "import simulate_drnn"
   ]
  },
  {
   "cell_type": "code",
   "execution_count": 38,
   "metadata": {},
   "outputs": [],
   "source": [
    "Z, Theta, M = simulate_drnn.gendata_lin_mcar(200, 200, p = 0.5, seed = 20)"
   ]
  },
  {
   "cell_type": "code",
   "execution_count": null,
   "metadata": {},
   "outputs": [],
   "source": []
  },
  {
   "cell_type": "code",
   "execution_count": 39,
   "metadata": {},
   "outputs": [],
   "source": [
    "drnn_spc = {\n",
    "    'row_eta': hp.uniform('row_eta', 0, 0.7),\n",
    "    'col_eta': hp.uniform('col_eta', 0, 0.7)\n",
    "}\n",
    "\n",
    "mcar_drnn = DRNN(eta_space = hp.uniform('eta', 0, 0.7), drnn_eta_space=drnn_spc)\n",
    "Z = np.ma.masked_array(Z, np.logical_not(M))\n",
    "r_dist, c_dist = mcar_drnn.distances(Z)\n"
   ]
  },
  {
   "cell_type": "code",
   "execution_count": 144,
   "metadata": {},
   "outputs": [
    {
     "data": {
      "text/plain": [
       "masked_array(\n",
       "  data=[[-0.3698052729001645, -0.23675915980302475, -0.06854172207103619,\n",
       "         ..., -0.7219790789087893, -0.7006260364160712,\n",
       "         -0.5082980193147738],\n",
       "        [-0.32097347382425495, -0.3792695874827092, -0.587747036329631,\n",
       "         ..., 1.2444519671141612, --, --],\n",
       "        [0.35084258348821046, 0.17047547696319434, 0.902837407361802,\n",
       "         ..., -0.8622589823939075, 0.19757599968284167,\n",
       "         0.127452690291471],\n",
       "        ...,\n",
       "        [-0.21158250302647927, -0.7928391397385793, -1.352691758582859,\n",
       "         ..., 1.4428313880080268, -0.4176321753230708,\n",
       "         0.14980922236902192],\n",
       "        [-0.9968322180262419, 0.8839078903549289, -0.0678180694079438,\n",
       "         ..., -0.05828463426886366, -0.3229639308122517,\n",
       "         -0.7595770690169322],\n",
       "        [-0.0055539632635052604, 0.11191320320882425, 0.4182040526948347,\n",
       "         ..., -0.22750025066082907, -0.05779603110448564, --]],\n",
       "  mask=[[False, False, False, ..., False, False, False],\n",
       "        [False, False, False, ..., False,  True,  True],\n",
       "        [False, False, False, ..., False, False, False],\n",
       "        ...,\n",
       "        [False, False, False, ..., False, False, False],\n",
       "        [False, False, False, ..., False, False, False],\n",
       "        [False, False, False, ..., False, False,  True]],\n",
       "  fill_value=1e+20)"
      ]
     },
     "execution_count": 144,
     "metadata": {},
     "output_type": "execute_result"
    }
   ],
   "source": [
    "Z"
   ]
  },
  {
   "cell_type": "code",
   "execution_count": 41,
   "metadata": {},
   "outputs": [
    {
     "data": {
      "text/plain": [
       "4.357654953124802"
      ]
     },
     "execution_count": 41,
     "metadata": {},
     "output_type": "execute_result"
    }
   ],
   "source": [
    "np.max(c_dist[~np.isinf(c_dist)])"
   ]
  },
  {
   "cell_type": "code",
   "execution_count": 62,
   "metadata": {},
   "outputs": [
    {
     "data": {
      "text/plain": [
       "np.float64(0.0)"
      ]
     },
     "execution_count": 62,
     "metadata": {},
     "output_type": "execute_result"
    }
   ],
   "source": [
    "eta_drnn_col"
   ]
  },
  {
   "cell_type": "code",
   "execution_count": 63,
   "metadata": {},
   "outputs": [
    {
     "data": {
      "text/plain": [
       "np.float64(0.2)"
      ]
     },
     "execution_count": 63,
     "metadata": {},
     "output_type": "execute_result"
    }
   ],
   "source": [
    "eta_drnn_row"
   ]
  },
  {
   "cell_type": "code",
   "execution_count": 92,
   "metadata": {},
   "outputs": [],
   "source": [
    "def gendata_mcar(N, T, p, seed, r = 4) : \n",
    "    \"\"\" \n",
    "    Generates Gaussian data, with latent dimension r = 4\n",
    "    \"\"\"\n",
    "    np.random.seed(seed = seed)\n",
    "\n",
    "    ## Data Matrix (N * T * n * d)\n",
    "    Data = np.zeros( (N, T) )\n",
    "    #true_Mean = np.zeros( (N, T) )\n",
    "    #true_Cov = np.zeros( (N, T) )\n",
    "\n",
    "    user_range = 0.9\n",
    "    time_range = 0.9\n",
    "\n",
    "    user_std = 0.3\n",
    "    time_std = 0.3\n",
    "\n",
    "    U = np.random.uniform(size=(N,r)) * user_range * 2 - user_range\n",
    "    V = np.random.uniform(size=(T,r)) * time_range * 2 - time_range\n",
    "    Y0 = 1/np.sqrt(r) * np.matmul(U, V.transpose())\n",
    "\n",
    "    a = np.random.normal(0, user_std, size=N)\n",
    "    b = np.random.normal(0, time_std, size=T)\n",
    "    eps = np.random.normal(0, 0.05, size=(N, T))\n",
    "\n",
    "    # treatment effect\n",
    "    # delta(i,j) = a(i) + b(t) + eps(i,t)\n",
    "\n",
    "    aa = np.broadcast_to(a.reshape(N,1), (N,T))\n",
    "    bb = np.broadcast_to(b, (N,T))\n",
    "    delta = aa + bb + eps \n",
    "    Y1 = Y0 + delta \n",
    "\n",
    "    Y1 += np.random.normal(0, 0.001, size=(N,T))\n",
    "    Y0 += np.random.normal(0, 0.001, size=(N,T))\n",
    "    #D = np.stack([Y0, Y1], axis=-1)\n",
    "    \n",
    "    Masking = np.zeros( (N, T) )\n",
    "\n",
    "    Masking = np.reshape(np.random.binomial(1, p, (N*T)), (N, T))\n",
    "\n",
    "    # for sim purpose, last row, last column is observed\n",
    "    Masking[N - 1, T - 1] = 1\n",
    "    Data = np.zeros((N, T))\n",
    "    Data[Masking == 1] = Y1[Masking == 1]\n",
    "    Data[Masking == 0] = Y0[Masking == 0]\n",
    "\n",
    "    return Data, Masking"
   ]
  },
  {
   "cell_type": "code",
   "execution_count": 68,
   "metadata": {},
   "outputs": [
    {
     "name": "stdout",
     "output_type": "stream",
     "text": [
      "0.005996660400794241\n",
      "0.08786652522877604\n",
      "0.26356716237220656\n"
     ]
    }
   ],
   "source": [
    "rq_inds = (N - 1, T - 1)\n",
    "eval_mask = np.logical_not(M)\n",
    "eval_mask[rq_inds] = 1\n",
    "\n",
    "masked_Z = np.ma.masked_array(Z, eval_mask)\n",
    "\n",
    "eta_drnn_row, eta_drnn_col = mcar_drnn.search_eta_drnn(masked_Z, M, max_evals = 100)\n",
    "eta_star_row = mcar_drnn.search_eta_snn(masked_Z, M, nn_type = \"u\", max_evals=100)\n",
    "eta_star_col = mcar_drnn.search_eta_snn(masked_Z, M, nn_type = \"i\", max_evals=100)\n",
    "\n",
    "\n",
    "\n",
    "row_dists, col_dists = mcar_drnn.distances(masked_Z, M = None)\n",
    "flattened_inds = [rq_inds]\n",
    "# for b in range(len(rq_inds[0])):\n",
    "#   flattened_inds.append((rq_inds[0][b], rq_inds[1][b]))\n",
    "est = mcar_drnn.estimate(masked_Z, M, eta_drnn_row, eta_drnn_col, flattened_inds, row_dists, col_dists)\n",
    "truth = Z[rq_inds]\n",
    "err = mcar_drnn.avg_error(est[rq_inds], truth)\n",
    "snn_unit_est = mcar_drnn.snn_estimate(masked_Z, M, eta_star_row, flattened_inds, row_dists, \"u\")\n",
    "snn_time_est = mcar_drnn.snn_estimate(masked_Z, M, eta_star_col, flattened_inds, col_dists, nn_type = \"i\")\n",
    "unit_err = mcar_drnn.avg_error(snn_unit_est[rq_inds], truth)\n",
    "time_err = mcar_drnn.avg_error(snn_time_est[rq_inds], truth)\n",
    "\n",
    "print(err)\n",
    "print(unit_err)\n",
    "print(time_err)\n"
   ]
  },
  {
   "cell_type": "code",
   "execution_count": 26,
   "metadata": {},
   "outputs": [
    {
     "name": "stdout",
     "output_type": "stream",
     "text": [
      "here\n",
      "here\n",
      "here\n",
      "here\n",
      "here\n"
     ]
    }
   ],
   "source": [
    "row_dists, col_dists = mcar_drnn.distances(masked_Z, M = None)\n",
    "flattened_inds = []\n",
    "for b in range(len(rq_inds[0])):\n",
    "  flattened_inds.append((rq_inds[0][b], rq_inds[1][b]))\n",
    "est = mcar_drnn.estimate(masked_Z, M, eta_star_row, eta_star_col, flattened_inds, row_dists, col_dists)\n",
    "truth = Z[rq_inds]\n",
    "err = mcar_drnn.avg_error(est[rq_inds], truth)"
   ]
  },
  {
   "cell_type": "code",
   "execution_count": 111,
   "metadata": {},
   "outputs": [
    {
     "name": "stdout",
     "output_type": "stream",
     "text": [
      "[True False True False]\n",
      "[False  True  True False]\n",
      "--\n",
      "[[--]\n",
      " [3]\n",
      " [--]\n",
      " [--]]\n",
      "[1 2 3 --]\n"
     ]
    }
   ],
   "source": [
    "Z = np.array([[1, 2, 3, 4], [0, 2, 4, 3], [1, 2, 5, 1], [1, 2, 3, 100]])\n",
    "M = np.array([[1, 0, 1, 0], [1, 1, 1, 1], [0, 1, 0, 0], [1, 1, 1, 0]])\n",
    "act_M = np.logical_not(M)\n",
    "Z_m = np.ma.masked_array(Z, mask = act_M)\n",
    "row_dists, col_dists = mcar_drnn.distances(Z_m, M = None)\n",
    "#row_dists, col_dists = mcar_drnn.distances(masked_Z, M = None)\n",
    "est = mcar_drnn.estimate(Z_m, M, 0, 1, [(3, 3)], row_dists, col_dists)"
   ]
  },
  {
   "cell_type": "code",
   "execution_count": 107,
   "metadata": {},
   "outputs": [
    {
     "data": {
      "text/plain": [
       "masked_array(data=[0.0, 0.6666666666666666, 0.0, inf],\n",
       "             mask=[False, False, False, False],\n",
       "       fill_value=1e+20)"
      ]
     },
     "execution_count": 107,
     "metadata": {},
     "output_type": "execute_result"
    }
   ],
   "source": [
    "row_dists[3]"
   ]
  },
  {
   "cell_type": "code",
   "execution_count": 109,
   "metadata": {},
   "outputs": [
    {
     "data": {
      "text/plain": [
       "array([[nan, nan, nan, nan],\n",
       "       [nan, nan, nan, nan],\n",
       "       [nan, nan, nan, nan],\n",
       "       [nan, nan, nan,  3.]])"
      ]
     },
     "execution_count": 109,
     "metadata": {},
     "output_type": "execute_result"
    }
   ],
   "source": [
    "est"
   ]
  },
  {
   "cell_type": "code",
   "execution_count": 44,
   "metadata": {},
   "outputs": [
    {
     "data": {
      "text/plain": [
       "(masked_array(\n",
       "   data=[[inf, 9.0],\n",
       "         [9.0, inf]],\n",
       "   mask=[[False, False],\n",
       "         [False, False]],\n",
       "   fill_value=1e+20),\n",
       " masked_array(\n",
       "   data=[[inf, --, 4.0],\n",
       "         [--, inf, --],\n",
       "         [4.0, --, inf]],\n",
       "   mask=[[False,  True, False],\n",
       "         [ True, False,  True],\n",
       "         [False,  True, False]],\n",
       "   fill_value=1e+20))"
      ]
     },
     "execution_count": 44,
     "metadata": {},
     "output_type": "execute_result"
    }
   ],
   "source": [
    "test_Z = np.array([[1, 2, 3], [4, 5, 6]])\n",
    "mask = np.array([[1, 0, 1], [1, 0, 1]])\n",
    "m_test_Z = np.ma.masked_array(test_Z, np.logical_not(mask))\n",
    "mcar_drnn.distances(m_test_Z)"
   ]
  },
  {
   "cell_type": "code",
   "execution_count": 37,
   "metadata": {},
   "outputs": [
    {
     "name": "stderr",
     "output_type": "stream",
     "text": [
      "c:\\Users\\Caleb\\HeartstepsDNN\\DRNN\\drnn.py:109: UserWarning: Warning: converting a masked element to nan.\n",
      "  ests[i, j] = np.mean(row_Ys - col_Ys + Z[s_unit_nn][s_time_nn]) # this is len(s_unit_nn) x len(s_time_nn)\n"
     ]
    },
    {
     "data": {
      "text/plain": [
       "array([ 0.15819007, -0.13098725, -0.97126471, ..., -0.70994375,\n",
       "       -0.77141201, -0.74979711])"
      ]
     },
     "execution_count": 37,
     "metadata": {},
     "output_type": "execute_result"
    }
   ],
   "source": [
    "row_dists, col_dists = mcar_drnn.distances(masked_Z, M = None)\n",
    "flattened_inds = []\n",
    "for b in range(len(rq_inds[0])):\n",
    "  flattened_inds.append((rq_inds[0][b], rq_inds[1][b]))\n",
    "est = mcar_drnn.estimate(masked_Z, M, eta_star_row, eta_star_col, flattened_inds, row_dists, col_dists)\n",
    "est[rq_inds]"
   ]
  },
  {
   "cell_type": "code",
   "execution_count": 23,
   "metadata": {},
   "outputs": [],
   "source": [
    "# new ssplit\n",
    "direc = \"./experimental_results\"\n",
    "drnn_err = np.load(direc + \"/drnn_full_bugll42_ssplit_mcar_N4_7_blin_uv11_d4_p5_abs_err.npy\")\n",
    "drnn_eta = np.load(direc + \"/drnn_full_bugll42_ssplit_mcar_N4_7_blin_uv11_d4_p5_abs_eta.npy\")\n",
    "unit_err = np.load(direc + \"/drnn_full_bugll42_ssplit_mcar_N4_7_blin_uv11_d4_p5_unit_abs_err.npy\")\n",
    "unit_eta = np.load(direc + \"/drnn_full_bugll42_ssplit_mcar_N4_7_blin_uv11_d4_p5_unit_abs_eta.npy\")\n",
    "time_err = np.load(direc + \"/drnn_full_bugll42_ssplit_mcar_N4_7_blin_uv11_d4_p5_time_abs_err.npy\")\n",
    "time_eta = np.load(direc + \"/drnn_full_bugll42_ssplit_mcar_N4_7_blin_uv11_d4_p5_time_abs_eta.npy\")\n",
    "usvt_err = np.load(direc + \"/drnn_full_bugll42_ssplit_mcar_N4_7_blin_uv11_d4_p5_usvt_abs_err.npy\")\n",
    "\n",
    "drnn_ests = np.load(direc + \"/drnn_full_bugll42_ssplit_mcar_N4_7_blin_uv11_d4_p5_estimates.npy\", allow_pickle=True)\n",
    "unit_ests = np.load(direc + \"/drnn_full_bugll42_ssplit_mcar_N4_7_blin_uv11_d4_p5_unit_estimates.npy\", allow_pickle=True)\n",
    "time_ests = np.load(direc + \"/drnn_full_bugll42_ssplit_mcar_N4_7_blin_uv11_d4_p5_time_estimates.npy\", allow_pickle=True)\n",
    "usvt_ests = np.load(direc + \"/drnn_full_bugll42_ssplit_mcar_N4_7_blin_uv11_d4_p5_usvt_estimates.npy\", allow_pickle=True)\n"
   ]
  },
  {
   "cell_type": "code",
   "execution_count": 86,
   "metadata": {},
   "outputs": [],
   "source": [
    "drnn_eta = np.load(direc + \"/drnn_tstfull_allssplit_mcar_N4_6_blin_uv0505_d4_p5_abs_eta.npy\")\n"
   ]
  },
  {
   "cell_type": "code",
   "execution_count": 128,
   "metadata": {},
   "outputs": [
    {
     "data": {
      "text/plain": [
       "array([0.58334331, 0.51026685, 0.36451676, 0.25535981])"
      ]
     },
     "execution_count": 128,
     "metadata": {},
     "output_type": "execute_result"
    }
   ],
   "source": [
    "np.mean(unit_err, axis = 1)"
   ]
  },
  {
   "cell_type": "code",
   "execution_count": 129,
   "metadata": {},
   "outputs": [
    {
     "data": {
      "text/plain": [
       "array([0.59629314, 0.52097763, 0.37252062, 0.2614577 ])"
      ]
     },
     "execution_count": 129,
     "metadata": {},
     "output_type": "execute_result"
    }
   ],
   "source": [
    "np.mean(drnn_err, axis = 1)"
   ]
  },
  {
   "cell_type": "code",
   "execution_count": 137,
   "metadata": {},
   "outputs": [
    {
     "data": {
      "text/plain": [
       "array([[1.17369338, 1.18288996, 2.16014511, 2.18144686],\n",
       "       [0.95202728, 0.95407296, 1.15761767, 1.30148671],\n",
       "       [0.89096954, 0.73873698, 1.33687721, 2.00807019],\n",
       "       [0.51899416, 0.50244401, 1.4754485 , 2.13742373]])"
      ]
     },
     "execution_count": 137,
     "metadata": {},
     "output_type": "execute_result"
    }
   ],
   "source": [
    "np.mean(drnn_eta, axis = 1)"
   ]
  },
  {
   "cell_type": "code",
   "execution_count": 141,
   "metadata": {},
   "outputs": [
    {
     "data": {
      "text/plain": [
       "array([[[0.48477373, 0.52993311, 1.99320253, 3.39528334],\n",
       "        [1.87479102, 2.3831587 , 2.11530733, 2.79882302],\n",
       "        [1.0313591 , 0.27984224, 0.88752728, 0.49503768],\n",
       "        [0.35888485, 1.83820578, 3.24582022, 3.12300321],\n",
       "        [2.11865819, 0.88330997, 2.55886817, 1.09508704]],\n",
       "\n",
       "       [[1.46746326, 0.20906216, 0.20456911, 0.33602022],\n",
       "        [0.97855856, 0.75323881, 0.1239648 , 1.46996638],\n",
       "        [0.75458741, 0.65154012, 3.01345843, 1.58919638],\n",
       "        [0.92522597, 0.56487795, 1.1915426 , 1.47901811],\n",
       "        [0.63430118, 2.59164577, 1.2545534 , 1.63323247]],\n",
       "\n",
       "       [[2.27514771, 0.51896366, 2.49397128, 3.037922  ],\n",
       "        [0.52125487, 0.73516745, 2.32854   , 2.48907034],\n",
       "        [0.41798917, 0.91120136, 0.09081899, 2.62711624],\n",
       "        [0.50024703, 0.96652235, 0.50725847, 1.04454446],\n",
       "        [0.74020893, 0.56183007, 1.26379731, 0.84169791]],\n",
       "\n",
       "       [[0.51553991, 0.51090423, 3.43899559, 2.39551961],\n",
       "        [0.45987483, 0.47580789, 2.13304228, 3.13987838],\n",
       "        [0.53573067, 0.53691165, 0.75538815, 0.4674349 ],\n",
       "        [0.49048692, 0.47915192, 0.66535779, 1.21669226],\n",
       "        [0.59333845, 0.50944438, 0.38445869, 3.46759351]]])"
      ]
     },
     "execution_count": 141,
     "metadata": {},
     "output_type": "execute_result"
    }
   ],
   "source": [
    "drnn_eta"
   ]
  },
  {
   "cell_type": "code",
   "execution_count": 138,
   "metadata": {},
   "outputs": [
    {
     "data": {
      "text/plain": [
       "array([[0.62908626, 0.77658845],\n",
       "       [0.38186962, 0.47198082],\n",
       "       [0.47658582, 0.47204272],\n",
       "       [0.32298907, 0.37206458]])"
      ]
     },
     "execution_count": 138,
     "metadata": {},
     "output_type": "execute_result"
    }
   ],
   "source": [
    "np.mean(unit_eta, axis = 1)"
   ]
  },
  {
   "cell_type": "code",
   "execution_count": 143,
   "metadata": {},
   "outputs": [
    {
     "data": {
      "text/plain": [
       "array([[[5.29946585e-01, 3.23444633e+00],\n",
       "        [3.17946282e-01, 3.42366107e+00],\n",
       "        [2.82586238e-02, 6.08516679e-01],\n",
       "        [5.47535388e-01, 2.39163640e+00],\n",
       "        [4.81439018e-04, 1.00715543e+00]],\n",
       "\n",
       "       [[2.32468806e-01, 5.09115792e-01],\n",
       "        [7.37343817e-01, 4.73060127e-01],\n",
       "        [5.95654418e-01, 3.49034630e+00],\n",
       "        [4.34468897e-01, 4.52534849e-01],\n",
       "        [4.86160541e-01, 3.19138031e+00]],\n",
       "\n",
       "       [[4.26549996e-01, 5.20221359e-01],\n",
       "        [4.39976154e-01, 1.97041205e+00],\n",
       "        [6.49141375e-01, 2.90420582e+00],\n",
       "        [3.22322810e-01, 2.97685848e-01],\n",
       "        [3.36074191e-01, 1.06918058e+00]],\n",
       "\n",
       "       [[2.95304882e-01, 1.91250587e+00],\n",
       "        [3.50195684e-01, 9.05763107e-01],\n",
       "        [3.51178737e-01, 1.78867813e+00],\n",
       "        [4.27031590e-01, 2.30570329e+00],\n",
       "        [4.00393062e-01, 1.80818942e+00]]])"
      ]
     },
     "execution_count": 143,
     "metadata": {},
     "output_type": "execute_result"
    }
   ],
   "source": [
    "time_eta"
   ]
  },
  {
   "cell_type": "code",
   "execution_count": 144,
   "metadata": {},
   "outputs": [
    {
     "data": {
      "text/plain": [
       "array([[0.28483366, 2.13308318],\n",
       "       [0.4972193 , 1.62328748],\n",
       "       [0.43481291, 1.35234113],\n",
       "       [0.36482079, 1.74416796]])"
      ]
     },
     "execution_count": 144,
     "metadata": {},
     "output_type": "execute_result"
    }
   ],
   "source": [
    "np.mean(time_eta, axis = 1)"
   ]
  },
  {
   "cell_type": "code",
   "execution_count": 91,
   "metadata": {},
   "outputs": [
    {
     "ename": "FileNotFoundError",
     "evalue": "[Errno 2] No such file or directory: 'experimental_results/drnn_mcar_N4_7_p5_blin_uv11_d2_abs_err.npy'",
     "output_type": "error",
     "traceback": [
      "\u001b[1;31m---------------------------------------------------------------------------\u001b[0m",
      "\u001b[1;31mFileNotFoundError\u001b[0m                         Traceback (most recent call last)",
      "Cell \u001b[1;32mIn[91], line 3\u001b[0m\n\u001b[0;32m      1\u001b[0m \u001b[38;5;66;03m# lin\u001b[39;00m\n\u001b[0;32m      2\u001b[0m direc \u001b[38;5;241m=\u001b[39m \u001b[38;5;124m\"\u001b[39m\u001b[38;5;124mexperimental_results\u001b[39m\u001b[38;5;124m\"\u001b[39m\n\u001b[1;32m----> 3\u001b[0m drnn_err \u001b[38;5;241m=\u001b[39m \u001b[43mnp\u001b[49m\u001b[38;5;241;43m.\u001b[39;49m\u001b[43mload\u001b[49m\u001b[43m(\u001b[49m\u001b[43mdirec\u001b[49m\u001b[43m \u001b[49m\u001b[38;5;241;43m+\u001b[39;49m\u001b[43m \u001b[49m\u001b[38;5;124;43m\"\u001b[39;49m\u001b[38;5;124;43m/drnn_mcar_N4_7_p5_blin_uv11_d2_abs_err.npy\u001b[39;49m\u001b[38;5;124;43m\"\u001b[39;49m\u001b[43m)\u001b[49m\n\u001b[0;32m      4\u001b[0m drnn_eta \u001b[38;5;241m=\u001b[39m np\u001b[38;5;241m.\u001b[39mload(direc \u001b[38;5;241m+\u001b[39m \u001b[38;5;124m\"\u001b[39m\u001b[38;5;124m/drnn_mcar_N4_7_p5_blin_uv11_d2_abs_eta.npy\u001b[39m\u001b[38;5;124m\"\u001b[39m)\n\u001b[0;32m      5\u001b[0m unit_err \u001b[38;5;241m=\u001b[39m np\u001b[38;5;241m.\u001b[39mload(direc \u001b[38;5;241m+\u001b[39m \u001b[38;5;124m\"\u001b[39m\u001b[38;5;124m/drnn_mcar_N4_7_p5_blin_uv11_d2_unit_abs_err.npy\u001b[39m\u001b[38;5;124m\"\u001b[39m)\n",
      "File \u001b[1;32mc:\\Users\\Caleb\\HeartstepsDNN\\Heartsteps-DNN\\dnn_env\\Lib\\site-packages\\numpy\\lib\\_npyio_impl.py:455\u001b[0m, in \u001b[0;36mload\u001b[1;34m(file, mmap_mode, allow_pickle, fix_imports, encoding, max_header_size)\u001b[0m\n\u001b[0;32m    453\u001b[0m     own_fid \u001b[38;5;241m=\u001b[39m \u001b[38;5;28;01mFalse\u001b[39;00m\n\u001b[0;32m    454\u001b[0m \u001b[38;5;28;01melse\u001b[39;00m:\n\u001b[1;32m--> 455\u001b[0m     fid \u001b[38;5;241m=\u001b[39m stack\u001b[38;5;241m.\u001b[39menter_context(\u001b[38;5;28mopen\u001b[39m(os\u001b[38;5;241m.\u001b[39mfspath(file), \u001b[38;5;124m\"\u001b[39m\u001b[38;5;124mrb\u001b[39m\u001b[38;5;124m\"\u001b[39m))\n\u001b[0;32m    456\u001b[0m     own_fid \u001b[38;5;241m=\u001b[39m \u001b[38;5;28;01mTrue\u001b[39;00m\n\u001b[0;32m    458\u001b[0m \u001b[38;5;66;03m# Code to distinguish from NumPy binary files and pickles.\u001b[39;00m\n",
      "\u001b[1;31mFileNotFoundError\u001b[0m: [Errno 2] No such file or directory: 'experimental_results/drnn_mcar_N4_7_p5_blin_uv11_d2_abs_err.npy'"
     ]
    }
   ],
   "source": [
    "# lin\n",
    "direc = \"experimental_results\"\n",
    "drnn_err = np.load(direc + \"/drnn_mcar_N4_7_p5_blin_uv11_d2_abs_err.npy\")\n",
    "drnn_eta = np.load(direc + \"/drnn_mcar_N4_7_p5_blin_uv11_d2_abs_eta.npy\")\n",
    "unit_err = np.load(direc + \"/drnn_mcar_N4_7_p5_blin_uv11_d2_unit_abs_err.npy\")\n",
    "unit_eta = np.load(direc + \"/drnn_mcar_N4_7_p5_blin_uv11_d2_unit_abs_eta.npy\")\n",
    "time_err = np.load(direc + \"/drnn_mcar_N4_7_p5_blin_uv11_d2_time_abs_err.npy\")\n",
    "time_eta = np.load(direc + \"/drnn_mcar_N4_7_p5_blin_uv11_d2_time_abs_eta.npy\")\n",
    "usvt_err = np.load(direc + \"/drnn_mcar_N4_7_p5_blin_uv11_d2_usvt_abs_err.npy\")"
   ]
  },
  {
   "cell_type": "code",
   "execution_count": 92,
   "metadata": {},
   "outputs": [],
   "source": [
    "# non lin\n",
    "direc = \"experimental_results\"\n",
    "drnn_err = np.load(direc + \"/drnn_mcar_N4_7_p5_nonlin_cube_uv11_d2_abs_err.npy\")\n",
    "drnn_eta = np.load(direc + \"/drnn_mcar_N4_7_p5_nonlin_cube_uv11_d2_abs_eta.npy\")\n",
    "unit_err = np.load(direc + \"/drnn_mcar_N4_7_p5_nonlin_cube_uv11_d2_unit_abs_err.npy\")\n",
    "unit_eta = np.load(direc + \"/drnn_mcar_N4_7_p5_nonlin_cube_uv11_d2_unit_abs_eta.npy\")\n",
    "time_err = np.load(direc + \"/drnn_mcar_N4_7_p5_nonlin_cube_uv11_d2_time_abs_err.npy\")\n",
    "time_eta = np.load(direc + \"/drnn_mcar_N4_7_p5_nonlin_cube_uv11_d2_time_abs_eta.npy\")\n",
    "usvt_err = np.load(direc + \"/drnn_mcar_N4_7_p5_nonlin_cube_uv11_d2_usvt_abs_err.npy\")"
   ]
  },
  {
   "cell_type": "code",
   "execution_count": 116,
   "metadata": {},
   "outputs": [
    {
     "data": {
      "text/plain": [
       "array([[0.56074523, 0.8229308 , 0.69174121, 0.31605499, 1.03667909],\n",
       "       [0.53438614, 0.23276823, 0.30157009, 0.72262664, 0.41561184],\n",
       "       [0.1914433 , 0.26303736, 0.33106312, 0.31686119, 0.21154664],\n",
       "       [0.15869691, 0.12645151, 0.09101969, 0.12181339, 0.24852184]])"
      ]
     },
     "execution_count": 116,
     "metadata": {},
     "output_type": "execute_result"
    }
   ],
   "source": [
    "unit_err"
   ]
  },
  {
   "cell_type": "code",
   "execution_count": 267,
   "metadata": {},
   "outputs": [
    {
     "data": {
      "text/plain": [
       "array([[0.19049707, 0.44274251, 0.7359814 , 0.06691642, 0.25980295],\n",
       "       [0.14018141, 0.23519809, 0.09672301, 0.23492119, 0.31464201],\n",
       "       [0.10535198, 0.21144758, 0.30424297, 0.1759658 , 0.12380815]])"
      ]
     },
     "execution_count": 267,
     "metadata": {},
     "output_type": "execute_result"
    }
   ],
   "source": [
    "unit_err"
   ]
  },
  {
   "cell_type": "code",
   "execution_count": 252,
   "metadata": {},
   "outputs": [
    {
     "data": {
      "text/plain": [
       "array([0.27203086, 0.29372164, 0.22382277, 0.31656219])"
      ]
     },
     "execution_count": 252,
     "metadata": {},
     "output_type": "execute_result"
    }
   ],
   "source": [
    "np.mean(usvt_err, axis = 1)"
   ]
  },
  {
   "cell_type": "code",
   "execution_count": 170,
   "metadata": {},
   "outputs": [
    {
     "data": {
      "text/plain": [
       "array([0.23176358, 0.30861153, 0.20899622, 0.32505002])"
      ]
     },
     "execution_count": 170,
     "metadata": {},
     "output_type": "execute_result"
    }
   ],
   "source": [
    "np.mean(usvt_none_err, axis = 1)"
   ]
  },
  {
   "cell_type": "code",
   "execution_count": 168,
   "metadata": {},
   "outputs": [
    {
     "name": "stdout",
     "output_type": "stream",
     "text": [
      "[0.22577931 0.30861153 0.20899622 0.32505002]\n"
     ]
    }
   ],
   "source": [
    "print(np.mean(usvt_err, axis = 1))"
   ]
  },
  {
   "cell_type": "code",
   "execution_count": 133,
   "metadata": {},
   "outputs": [
    {
     "data": {
      "text/plain": [
       "(4, 30, 4)"
      ]
     },
     "execution_count": 133,
     "metadata": {},
     "output_type": "execute_result"
    }
   ],
   "source": [
    "drnn_eta.shape "
   ]
  },
  {
   "cell_type": "code",
   "execution_count": 13,
   "metadata": {},
   "outputs": [
    {
     "name": "stdout",
     "output_type": "stream",
     "text": [
      "[[1.21202327 1.72038337 1.05186363 0.47142047]\n",
      " [1.30233673 0.5656082  1.25453764 1.2805699 ]\n",
      " [1.30945068 0.4134702  0.58996783 0.68338556]\n",
      " [0.49650033 0.43555955 0.45211414 0.55215298]]\n",
      "[[0.38724724 0.6486456 ]\n",
      " [0.31654267 0.50404757]\n",
      " [0.42485885 0.46680863]\n",
      " [0.35220573 0.3587671 ]]\n",
      "[[0.92112817 0.63361082]\n",
      " [0.61510873 0.62741825]\n",
      " [0.34862493 0.42324837]\n",
      " [0.38929375 0.3595986 ]]\n"
     ]
    }
   ],
   "source": [
    "print(np.mean(drnn_eta, axis = 1))\n",
    "print(np.mean(unit_eta, axis = 1))\n",
    "print(np.mean(time_eta, axis = 1))"
   ]
  },
  {
   "cell_type": "code",
   "execution_count": 151,
   "metadata": {},
   "outputs": [
    {
     "data": {
      "text/plain": [
       "(4, 30)"
      ]
     },
     "execution_count": 151,
     "metadata": {},
     "output_type": "execute_result"
    }
   ],
   "source": [
    "time_err.shape"
   ]
  },
  {
   "cell_type": "code",
   "execution_count": 139,
   "metadata": {},
   "outputs": [
    {
     "name": "stdout",
     "output_type": "stream",
     "text": [
      "[2.42934940e-03 1.29768672e-02 4.65932916e-02 1.78040996e-01\n",
      " 1.44929294e-01 1.45246665e-01 1.84626136e-01 7.60284072e-02\n",
      " 1.29660094e-02 5.53312483e-01 2.64749810e-01 7.64822701e-04\n",
      " 1.99153924e-02 2.24774452e-01 3.96110555e-01 6.04077505e-06\n",
      " 2.16726590e-01 2.46072400e-01 1.01351652e-01 6.47672142e-03\n",
      " 1.20048046e-01 7.46675163e-05 1.52899070e-01 1.68927305e-02\n",
      " 1.28290930e-02 7.62160529e-03 4.53408707e-02 4.33406508e-02\n",
      " 1.32820265e-01 2.21248150e-01]\n",
      "[2.06139398e-02 5.59055190e-02 1.02070369e-01 3.77911628e-02\n",
      " 4.07020568e-01 2.37245992e-02 8.09593070e-02 1.12080865e-04\n",
      " 3.10315843e-03 5.14213356e-01 1.61391339e-02 1.38465802e-02\n",
      " 2.96174447e-02 2.25622341e-01 3.38360359e-02 1.42661439e-03\n",
      " 3.54536217e-01 6.83388165e-01 4.28009166e-01 1.05633689e-01\n",
      " 5.22571505e-02 5.16358514e-02 2.53199438e-01 8.04085611e-05\n",
      " 1.48270261e-01 4.55968018e-02 3.11504218e-03 8.02514112e-03\n",
      " 2.63075629e-01 1.23216247e-01]\n",
      "[2.20998722e-01 1.43983217e-01 6.00814466e-02 1.79526352e-01\n",
      " 6.95949280e-02 8.35299475e-03 3.32879913e-01 1.07358709e-01\n",
      " 2.33794027e-03 3.58005439e-01 3.49584200e-01 2.39986930e-02\n",
      " 3.89150339e-02 7.03147907e-01 1.98581520e-01 2.49815063e-03\n",
      " 1.61047330e-02 1.32703135e-01 4.54867104e-01 2.04190884e-02\n",
      " 1.74845581e-02 6.56426607e-03 1.25452748e-01 1.31468979e-02\n",
      " 3.77081688e-05 7.16188967e-02 4.20860329e-03 1.43789728e-01\n",
      " 2.29867083e-01 1.24132729e-01]\n"
     ]
    }
   ],
   "source": [
    "print(drnn_err[1])\n",
    "print(unit_err[1])\n",
    "print(time_err[1])"
   ]
  },
  {
   "cell_type": "code",
   "execution_count": 12,
   "metadata": {},
   "outputs": [
    {
     "data": {
      "text/plain": [
       "array([0.15799558, 0.13483996, 0.09176727, 0.10257828])"
      ]
     },
     "execution_count": 12,
     "metadata": {},
     "output_type": "execute_result"
    }
   ],
   "source": [
    "np.std(drnn_err, axis =1)\n",
    "np.std(unit_err, axis = 1)\n",
    "np.std(time_err, axis = 1)"
   ]
  },
  {
   "cell_type": "code",
   "execution_count": 228,
   "metadata": {},
   "outputs": [
    {
     "data": {
      "text/plain": [
       "array([[2.32266766e-01, 4.34600401e-01, 5.97453611e-01, 1.04824433e-01,\n",
       "        1.42354041e-01, 1.25777377e-01, 1.93258314e-01, 1.09489100e-01,\n",
       "        8.18878380e-02, 1.00930604e-01, 8.69216102e-02, 6.42165385e-03,\n",
       "        1.60874612e-01, 5.51877229e-01, 5.24522760e-01, 2.78002338e-01,\n",
       "        4.23078037e-01, 4.85445380e-01, 2.49379953e-02, 7.75146770e-02,\n",
       "        1.24383424e-05, 2.10947591e-01, 2.60071157e-01, 5.65432155e-01,\n",
       "        1.03149644e-01, 1.38031260e-01, 3.00617030e-02, 1.63203784e-01,\n",
       "        4.17791461e-01, 9.21942740e-02],\n",
       "       [1.04116040e-01, 1.09071714e-01, 1.38949257e-01, 4.62974814e-01,\n",
       "        3.98327684e-01, 2.55227742e-01, 1.50816793e-01, 1.27219361e-01,\n",
       "        1.37099487e-01, 7.43751037e-01, 1.69196179e-01, 1.06883168e-01,\n",
       "        3.61920098e-01, 7.40038723e-02, 7.05857467e-02, 3.47871045e-01,\n",
       "        1.92285476e-01, 3.39861474e-01, 1.51310356e-01, 9.04896988e-01,\n",
       "        3.09281830e-01, 6.04386145e-02, 6.27526857e-01, 2.15438684e-01,\n",
       "        2.14766785e-01, 9.19028885e-01, 2.10072138e-01, 9.82980142e-02,\n",
       "        3.43250269e-01, 5.45108790e-01],\n",
       "       [5.02271097e-02, 1.66547691e-01, 2.26281370e-01, 2.71506558e-01,\n",
       "        2.18893174e-01, 8.35816765e-02, 8.65821535e-02, 7.69761061e-02,\n",
       "        2.43844507e-01, 1.39252697e-01, 3.51153945e-01, 3.78423873e-01,\n",
       "        7.10820418e-02, 2.96838787e-01, 1.17953675e-01, 1.46020170e-01,\n",
       "        1.17697035e-01, 1.92430456e-01, 1.98027631e-01, 1.89407014e-01,\n",
       "        6.14084143e-02, 3.84147611e-01, 2.23956543e-01, 2.58266640e-01,\n",
       "        3.20044589e-01, 2.76240853e-01, 3.72206867e-01, 2.52556107e-01,\n",
       "        1.36809817e-01, 3.61521358e-01],\n",
       "       [2.67887323e-01, 5.76647466e-01, 1.26298192e-01, 3.81282625e-01,\n",
       "        1.47899943e-01, 1.15470289e-01, 9.50652672e-01, 2.32570508e-01,\n",
       "        2.66910302e-01, 1.40247124e-01, 2.24426339e-01, 2.64872037e-01,\n",
       "        2.67493005e-01, 1.81847868e-01, 2.51637217e-01, 2.45430301e-01,\n",
       "        1.98649095e-01, 2.08403503e-01, 1.42035132e-01, 7.72789920e-01,\n",
       "        8.47348188e-01, 7.26944259e-01, 3.02541140e-01, 3.53828006e-01,\n",
       "        3.56468799e-01, 3.50177932e-01, 1.96680070e-01, 1.66510777e-01,\n",
       "        3.44942770e-01, 1.42607740e-01]])"
      ]
     },
     "execution_count": 228,
     "metadata": {},
     "output_type": "execute_result"
    }
   ],
   "source": [
    "usvt_err"
   ]
  },
  {
   "cell_type": "code",
   "execution_count": 117,
   "metadata": {},
   "outputs": [
    {
     "data": {
      "text/plain": [
       "array([[0.07946436, 0.25661346, 0.0116677 , 0.23973342, 0.18415741],\n",
       "       [0.27480137, 0.14236181, 0.29941581, 0.01302101, 0.22232017],\n",
       "       [0.26547061, 0.29813501, 0.29791452, 0.2686998 , 0.28145807],\n",
       "       [0.2998253 , 0.29996293, 0.28981846, 0.29988363, 0.26329515]])"
      ]
     },
     "execution_count": 117,
     "metadata": {},
     "output_type": "execute_result"
    }
   ],
   "source": [
    "_eta"
   ]
  },
  {
   "cell_type": "code",
   "execution_count": 5,
   "metadata": {},
   "outputs": [],
   "source": [
    "import matplotlib as mpl"
   ]
  },
  {
   "cell_type": "code",
   "execution_count": 42,
   "metadata": {},
   "outputs": [],
   "source": [
    "plt.rc('font', family='serif')\n",
    "plt.rc('text', usetex=False)\n",
    "plt.rc('axes', axisbelow=True)\n",
    "label_size = 15\n",
    "mpl.rcParams['xtick.labelsize'] = label_size \n",
    "mpl.rcParams['ytick.labelsize'] = label_size \n",
    "mpl.rcParams['axes.labelsize'] = label_size\n",
    "mpl.rcParams['axes.titlesize'] = label_size\n",
    "mpl.rcParams['figure.titlesize'] = label_size\n",
    "mpl.rcParams['lines.markersize'] = label_size\n",
    "mpl.rcParams['grid.linewidth'] = 2.5\n",
    "mpl.rcParams['legend.fontsize'] = label_size\n",
    "\n",
    "\n",
    "lss = ['--',  ':', '-.', '-', '--', '-.', ':', '-', '--', '-.', ':', '-']\n",
    "mss = ['x', 'o', '>', 's', 'D', '>', 'D', '>', 's', 'o', 'D']\n"
   ]
  },
  {
   "cell_type": "code",
   "execution_count": 43,
   "metadata": {},
   "outputs": [
    {
     "name": "stderr",
     "output_type": "stream",
     "text": [
      "C:\\Users\\Caleb\\AppData\\Local\\Temp\\ipykernel_24124\\3832049353.py:39: UserWarning: marker is redundantly defined by the 'marker' keyword argument and the fmt string \"s\" (-> marker='s'). The keyword argument will take precedence.\n",
      "  plt.errorbar(T_values, TimeNN_errors, yerr=tnn_stderr, fmt='s', color = \"orange\", marker='s', linestyle='None', markersize=12, label=rf'Time-NN: $T^{{{tnn_slope:.2f}}}$')\n"
     ]
    },
    {
     "data": {
      "image/png": "[encoded data removed]",
      "text/plain": [
       "<Figure size 640x480 with 1 Axes>"
      ]
     },
     "metadata": {},
     "output_type": "display_data"
    }
   ],
   "source": [
    "import numpy as np\n",
    "import matplotlib.pyplot as plt\n",
    "\n",
    "# Define T values and corresponding error rates for each method\n",
    "T_values = np.array([2**4, 2**5, 2**6, 2**7])\n",
    "\n",
    "# USVT_errors = 2**-3 * T_values**-0.10\n",
    "UserNN_errors = np.nanmean(unit_err, axis = 1)\n",
    "TimeNN_errors = np.nanmean(time_err, axis = 1)\n",
    "DRNN_errors = np.nanmean(drnn_err, axis = 1)\n",
    "USVT_errors = np.nanmean(usvt_err, axis = 1)\n",
    "\n",
    "unn_stderr = np.nanstd(unit_err, axis = 1) / np.sqrt(unit_err.shape[1])\n",
    "tnn_stderr = np.nanstd(time_err, axis = 1) / np.sqrt(time_err.shape[1])\n",
    "drnn_stderr = np.nanstd(drnn_err, axis = 1) / np.sqrt(drnn_err.shape[1])\n",
    "usvt_stderr = np.nanstd(usvt_err, axis = 1) / np.sqrt(usvt_err.shape[1])\n",
    "\n",
    "\n",
    "\n",
    "# Create the plot\n",
    "plt.figure()\n",
    "#plt.plot(T_values, USVT_errors, 'r', linestyle='-', marker='D', markersize=8, linewidth=2, label=r'USVT: $T^{-0.46}$')\n",
    "\n",
    "def add_regression_line(x, y, color, label, linestyle):\n",
    "    # Fit a line to log-transformed data\n",
    "    slope, intercept = np.polyfit(np.log2(x), np.log2(y), 1)\n",
    "    plt.plot(x, 2**(intercept) * x**slope, color=color, linestyle=linestyle, linewidth=2) \n",
    "             #label=f\"{label} (slope: {slope:.2f})\")\n",
    "    return slope\n",
    "\n",
    "usvt_slope = add_regression_line(T_values, USVT_errors, 'red', 'USVT', '--')\n",
    "unn_slope = add_regression_line(T_values, UserNN_errors, 'green', 'User-NN', ':')\n",
    "tnn_slope = add_regression_line(T_values, TimeNN_errors, 'orange', 'Time-NN', ':')\n",
    "drnn_slope = add_regression_line(T_values, DRNN_errors, 'blue', 'DR-NN', '--')\n",
    "\n",
    "# Plot each method with corresponding markers, colors, and line styles\n",
    "plt.errorbar(T_values, USVT_errors, yerr=usvt_stderr, fmt = 'r', marker='>', markersize=12, linestyle='None', barsabove=True, label=rf'USVT: $T^{{{usvt_slope:.2f}}}$')\n",
    "plt.errorbar(T_values, UserNN_errors, yerr=unn_stderr, fmt = 'g', marker='o', markersize=12, linestyle='None', label=rf'User-NN: $T^{{{unn_slope:.2f}}}$')\n",
    "plt.errorbar(T_values, TimeNN_errors, yerr=tnn_stderr, fmt='s', color = \"orange\", marker='s', linestyle='None', markersize=12, label=rf'Time-NN: $T^{{{tnn_slope:.2f}}}$')\n",
    "plt.errorbar(T_values, DRNN_errors, fmt='bD', yerr=drnn_stderr, markersize=12, linestyle=\"None\", label=rf'DR-NN: $T^{{{drnn_slope:.2f}}}$')\n",
    "\n",
    "# Logarithmic scale for both axes\n",
    "plt.xscale('log', base=2)\n",
    "plt.yscale('log', base=2)\n",
    "\n",
    "# Axis labels\n",
    "plt.xlabel(r'T', fontsize=15)\n",
    "plt.ylabel(r'Error for t = T, a = 1', fontsize=15)\n",
    "\n",
    "# Title\n",
    "#plt.title(r'Decay of avg. error across users (N = T, 30 trials)', fontsize=16)\n",
    "\n",
    "# Add legend\n",
    "plt.legend(fontsize=12)\n",
    "\n",
    "# Grid for better readability\n",
    "#plt.grid(True, which=\"both\", linestyle='--', linewidth=0.5)\n",
    "ax1 = plt.gca()\n",
    "ax1.spines['top'].set_visible(False)\n",
    "ax1.spines['right'].set_visible(False)\n",
    "ax1.spines['left'].set_visible(False)\n",
    "ax1.grid(True, alpha=0.4)\n",
    "\n",
    "\n",
    "# Show the plot#\n",
    "plt.savefig(\"drnn_mcar_blin_uv11_abserr_decay2_4_7.pdf\", bbox_inches = \"tight\")\n"
   ]
  },
  {
   "cell_type": "code",
   "execution_count": 289,
   "metadata": {},
   "outputs": [
    {
     "data": {
      "text/plain": [
       "array([0.27203086, 0.29372164, 0.22382277, 0.31656219])"
      ]
     },
     "execution_count": 289,
     "metadata": {},
     "output_type": "execute_result"
    }
   ],
   "source": [
    "np.mean(usvt_err, axis = 1)"
   ]
  },
  {
   "cell_type": "code",
   "execution_count": 26,
   "metadata": {},
   "outputs": [],
   "source": [
    "usvt_errs = np.load('drnn_mcar_N128_tryabs_usvt_errors.npy')\n",
    "user_nn_errs = np.load('drnn_mcar_N128_abs_unit_errors.npy')\n",
    "time_nn_errs = np.load('drnn_mcar_N128_abs_time_errors.npy')\n",
    "drnn_errs = np.load('drnn_mcar_N128_abs_drnn_errors.npy')"
   ]
  },
  {
   "cell_type": "code",
   "execution_count": 191,
   "metadata": {},
   "outputs": [
    {
     "data": {
      "text/plain": [
       "(28,)"
      ]
     },
     "execution_count": 191,
     "metadata": {},
     "output_type": "execute_result"
    }
   ],
   "source": [
    "usvt_errs.shape"
   ]
  },
  {
   "cell_type": "code",
   "execution_count": 302,
   "metadata": {},
   "outputs": [
    {
     "data": {
      "text/plain": [
       "array([2.16184339e-01, 5.43714437e-01, 3.91585739e-01, 2.64486704e-01,\n",
       "       4.89581357e-02, 8.93613081e-02, 3.33265621e-01, 8.47672345e-01,\n",
       "       9.24952951e-02, 3.23889493e-01, 2.10114779e-01, 7.98956839e-01,\n",
       "       1.45061208e+00, 4.98453656e-03, 1.40218029e-01, 9.43763697e-01,\n",
       "       1.38451395e-02, 1.35431420e-02, 5.12074001e-03, 5.02384478e-03,\n",
       "       1.49401358e-01, 1.29671857e+00, 1.47994707e+00, 4.96969595e-02,\n",
       "       5.41559944e-01, 1.72945506e-01, 4.44640616e-01, 5.54406406e-02,\n",
       "       7.15755927e-02, 2.39419671e-01, 4.91525406e-01, 1.01961532e-02,\n",
       "       3.72377823e-01, 1.43246220e-02, 5.72391323e-01, 3.62975605e-02,\n",
       "       2.59172107e-02, 9.00277441e-03, 2.63918833e-01, 9.98676641e-04,\n",
       "       3.77674766e-01, 8.37615885e-02, 3.62180426e-01, 4.50930714e-01,\n",
       "       4.97925063e-01, 3.51285049e-01, 1.85415633e+00, 8.51979237e-02,\n",
       "       6.87054363e-03, 9.22390308e-03, 2.01115093e-03, 9.47036994e-01,\n",
       "       3.05270128e-01, 3.60161328e-01, 6.12174940e-01, 1.73072373e-01,\n",
       "       3.48168372e-01, 3.37630310e-02, 1.63469389e-01, 3.60864892e-03,\n",
       "       1.60596731e-01, 3.10506275e-01, 3.04540182e-01])"
      ]
     },
     "execution_count": 302,
     "metadata": {},
     "output_type": "execute_result"
    }
   ],
   "source": [
    "usvt_errs"
   ]
  },
  {
   "cell_type": "code",
   "execution_count": 306,
   "metadata": {},
   "outputs": [
    {
     "data": {
      "text/plain": [
       "(63,)"
      ]
     },
     "execution_count": 306,
     "metadata": {},
     "output_type": "execute_result"
    }
   ],
   "source": [
    "user_nn_errs.shape"
   ]
  },
  {
   "cell_type": "code",
   "execution_count": 46,
   "metadata": {},
   "outputs": [
    {
     "data": {
      "image/png": "[encoded data removed]",
      "text/plain": [
       "<Figure size 640x480 with 1 Axes>"
      ]
     },
     "metadata": {},
     "output_type": "display_data"
    }
   ],
   "source": [
    "import matplotlib.pyplot as plt\n",
    "import numpy as np\n",
    "\n",
    "# Sample data (replace with your actual data)\n",
    "usvt_data = usvt_errs  # Replace with your actual USVT data\n",
    "user_nn_data = user_nn_errs  # Replace with your actual User-NN data\n",
    "time_nn_data = time_nn_errs # Replace with your actual Time-NN data\n",
    "dr_nn_data = drnn_errs  # Replace with your actual DR-NN data\n",
    "\n",
    "# Combine data into a list for plotting\n",
    "data = [usvt_data, user_nn_data, time_nn_data, dr_nn_data]\n",
    "\n",
    "# Set up the plot\n",
    "plt.figure()\n",
    "\n",
    "# Create boxplot\n",
    "box = plt.boxplot(data, patch_artist=True, widths=0.6, showfliers=False)\n",
    "\n",
    "# Customizing colors for each boxplot\n",
    "colors = ['red', 'green', 'orange', 'blue']\n",
    "for patch, color in zip(box['boxes'], colors):\n",
    "    patch.set_facecolor(color)\n",
    "\n",
    "for median in box['medians']:\n",
    "    median.set_color('black')  \n",
    "# Set y-axis limit\n",
    "#plt.ylim(0, 0.4)\n",
    "plt.ylim(0, None)\n",
    "\n",
    "# Add labels and title\n",
    "plt.xticks([1, 2, 3, 4], ['USVT', 'User-NN', 'Time-NN', 'DR-NN'], fontsize=15)\n",
    "plt.ylabel(r'Error for $t = T$ and $a = 1$', fontsize=15)\n",
    "#plt.title(r'Variation of error across users  $(N = T = 128, \\; 1 \\; \\text{Trial})$', fontsize=20)\n",
    "\n",
    "ax1 = plt.gca()\n",
    "ax1.spines['top'].set_visible(False)\n",
    "ax1.spines['right'].set_visible(False)\n",
    "ax1.spines['left'].set_visible(False)\n",
    "ax1.grid(True, alpha=0.4)\n",
    "\n",
    "plt.xlabel(r' ', fontsize=15)\n",
    "\n",
    "# Customize grid lines\n",
    "# plt.grid(True, which=\"both\", linestyle='--', linewidth=0.5)\n",
    "\n",
    "# Show the plot\n",
    "plt.savefig(\"drnn_variation_abs_error_NT128.pdf\", bbox_inches = \"tight\")"
   ]
  }
 ],
 "metadata": {
  "kernelspec": {
   "display_name": "Python 3",
   "language": "python",
   "name": "python3"
  },
  "language_info": {
   "codemirror_mode": {
    "name": "ipython",
    "version": 3
   },
   "file_extension": ".py",
   "mimetype": "text/x-python",
   "name": "python",
   "nbconvert_exporter": "python",
   "pygments_lexer": "ipython3",
   "version": "3.11.5"
  }
 },
 "nbformat": 4,
 "nbformat_minor": 2
}
